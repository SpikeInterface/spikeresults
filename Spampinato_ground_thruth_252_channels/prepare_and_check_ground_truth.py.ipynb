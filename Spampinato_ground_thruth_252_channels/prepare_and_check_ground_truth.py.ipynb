{
 "cells": [
  {
   "cell_type": "markdown",
   "metadata": {},
   "source": [
    "# Ground truth recordings for validation of spike sorting algorithms\n",
    "\n",
    "@author : Samuel Garcia\n",
    "\n",
    "\n",
    "Giulia  Spampinato from Institut de la Vision, Paris, have publish data from mice retina recorded invitro with from dense array.\n",
    "The data contain one ground truth to benchmark spike sorting tools. The ground truth is recorded with juxta celullar pipet.\n",
    "\n",
    "Here the official publication of this open dataset:\n",
    "https://zenodo.org/record/1205233#.W9mq1HWLTIF\n",
    "\n",
    "\n",
    "This datasets was used by Pierre Yger publish spyking circus:\n",
    "https://elifesciences.org/articles/34518\n",
    "\n",
    "After inspecting the juxta cellular, some recordings of the juxta cellular itself have no a good enough quality to be a \"ground truth\". To be a \"ground truth\" a recording must no doubt about the threhold, peak snr, amplitude stability.\n",
    "\n",
    "At the end some files have been removed for the main study in **\"sorter_comparison.ipynb\"**.\n",
    "\n",
    "\n",
    "Here some detail about that.\n",
    "\n",
    "First, we have to run the script \"detect_ground_truth_spike_on_juxta.py\".\n",
    "\n",
    "This script:\n",
    "  * unzip evrything\n",
    "  * run a juxta cellular detection\n",
    "  * generate figure to check manual juxta cellular quality\n",
    "  * compute the peak snr on the max channelin the mea.\n",
    "\n",
    "Before we need:\n",
    "  * to create a folder **basedir** somwhere.\n",
    "  * a subfolder **basedir/original_files** that contain all zip downloded (20160415_patch2.tar.gz, ...)\n",
    "\n",
    "run the script detect_ground_truth_spike_on_juxta.py\n",
    "\n",
    "After we can:\n",
    "  * inscpect in each folder some figures.\n",
    "\n",
    "\n",
    "\n",
    "\n"
   ]
  },
  {
   "cell_type": "markdown",
   "metadata": {},
   "source": [
    "# Cretirium to keep or remove a file\n",
    "\n",
    "Having a very string ground truth is crucial because all following metrics for sorter will bias by the fact that ground truth could itself have False Negative or False Positive.\n",
    "\n",
    "\n",
    "In the script we choose a hight threhold value for peak detection: **thresh = med + 8\\*mad**\n",
    "  * **med** been the median of the signal (the baseline)\n",
    "  * **mad** been the median absolut deviation a robust std estimation\n",
    "  * 8 is a quite high relative threshold thta ensure no noise at all.\n",
    "  \n",
    "  \n",
    "Two main criteria to keep a recording:\n",
    "  * the distribution of the peak value of the juxta celullar must look like a gaussian. Because:\n",
    "     * troncated gaussian warn about been false negative (miss) in ground truth\n",
    "     * multi modal guassian warn us about drift in amplitude or two cells\n",
    "\n",
    "\n"
   ]
  },
  {
   "cell_type": "markdown",
   "metadata": {},
   "source": [
    "# List of kept recording (9)\n",
    "\n",
    "\n",
    "```python\n",
    "'20160415_patch2',\n",
    "'20170803_patch1',\n",
    "'20170623_patch1', \n",
    "'20170622_patch1',\n",
    "'20160426_patch3', \n",
    "'20170725_patch1',\n",
    "'20170621_patch1',\n",
    "'20160426_patch2', \n",
    "'20170728_patch2'\n",
    "```\n"
   ]
  },
  {
   "cell_type": "markdown",
   "metadata": {},
   "source": [
    "# List of non kept recording (10)\n",
    "\n",
    "```python\n",
    "'20170706_patch2'\n",
    "'20170713_patch1'\n",
    "'20170629_patch2'\n",
    "'20170622_patch2'\n",
    "'20170726_patch1'\n",
    "'20170706_patch1'\n",
    "'20170706_patch3'\n",
    "'20170627_patch1'\n",
    "'20170630_patch1'\n",
    "'20170629_patch3'\n",
    "```\n",
    "\n",
    "Some reader could find me too strict, I but I prefer safe final results.\n",
    "Feel free to modify this list as you want you your own criteria."
   ]
  },
  {
   "cell_type": "code",
   "execution_count": 11,
   "metadata": {},
   "outputs": [],
   "source": [
    "import numpy as np\n",
    "import matplotlib.pyplot as plt\n",
    "import os\n",
    "\n",
    "# path\n",
    "basedir = '/home/samuel/DataSpikeSorting/Pierre/zenodo/'\n",
    "recording_folder = basedir + 'original_files/'\n",
    "ground_truth_folder = basedir + 'ground_truth/'"
   ]
  },
  {
   "cell_type": "code",
   "execution_count": 12,
   "metadata": {},
   "outputs": [],
   "source": [
    "# 2 simple functions\n",
    "\n",
    "def get_juxta_filename(rec_name):\n",
    "    # find the juxta file\n",
    "    dirname = recording_folder + rec_name + '/'\n",
    "    for f in os.listdir(dirname):\n",
    "        if  f.endswith('juxta.raw'):\n",
    "            juxta_filename = dirname + f\n",
    "            return juxta_filename\n",
    "\n",
    "def plot_juxta_amplitude(rec_name):\n",
    "    juxta_filename = get_juxta_filename(rec_name)\n",
    "    juxta_sig = np.memmap(juxta_filename, dtype='float32')\n",
    "    \n",
    "    gt_indexes = gt_folder+'juxta_peak_indexes.raw'\n",
    "    gt_indexes = np.fromfile(ground_truth_folder + rec_name + '/juxta_peak_indexes.raw', dtype='int64')\n",
    "    \n",
    "    fig, ax = plt.subplots()\n",
    "    count, bins = np.histogram(juxta_sig[gt_indexes], bins=np.arange(np.min(juxta_sig[gt_indexes]), 0,  0.5))\n",
    "    ax.plot(bins[:-1], count)\n",
    "    ax.axvline(-thresh, color='k', ls='--')\n",
    "    ax.set_title('juxta peak amplitude - ' + rec_name)\n",
    "\n"
   ]
  },
  {
   "cell_type": "markdown",
   "metadata": {},
   "source": [
    "## Figure for 20170706_patch2"
   ]
  },
  {
   "cell_type": "code",
   "execution_count": null,
   "metadata": {},
   "outputs": [],
   "source": [
    "plot_juxta_amplitude('20170706_patch2')"
   ]
  },
  {
   "cell_type": "markdown",
   "metadata": {},
   "source": [
    "## Figure for 20170713_patch1"
   ]
  },
  {
   "cell_type": "code",
   "execution_count": null,
   "metadata": {},
   "outputs": [],
   "source": [
    "plot_juxta_amplitude('20170713_patch1')"
   ]
  },
  {
   "cell_type": "markdown",
   "metadata": {},
   "source": [
    "## Figure for 20170629_patch2"
   ]
  },
  {
   "cell_type": "code",
   "execution_count": null,
   "metadata": {},
   "outputs": [],
   "source": [
    "plot_juxta_amplitude('20170629_patch2')"
   ]
  },
  {
   "cell_type": "markdown",
   "metadata": {},
   "source": [
    "## Figure for 20170622_patch2"
   ]
  },
  {
   "cell_type": "code",
   "execution_count": null,
   "metadata": {},
   "outputs": [],
   "source": [
    "plot_juxta_amplitude('20170622_patch2')"
   ]
  },
  {
   "cell_type": "markdown",
   "metadata": {},
   "source": [
    "## Figure for 20170726_patch1"
   ]
  },
  {
   "cell_type": "code",
   "execution_count": null,
   "metadata": {},
   "outputs": [],
   "source": [
    "plot_juxta_amplitude('20170726_patch1')"
   ]
  },
  {
   "cell_type": "markdown",
   "metadata": {},
   "source": [
    "## Figure for 20170706_patch1"
   ]
  },
  {
   "cell_type": "code",
   "execution_count": null,
   "metadata": {},
   "outputs": [],
   "source": [
    "plot_juxta_amplitude('20170706_patch1')"
   ]
  },
  {
   "cell_type": "markdown",
   "metadata": {},
   "source": [
    "## Figure for 20170706_patch3"
   ]
  },
  {
   "cell_type": "code",
   "execution_count": null,
   "metadata": {},
   "outputs": [],
   "source": [
    "plot_juxta_amplitude('20170706_patch3')"
   ]
  },
  {
   "cell_type": "markdown",
   "metadata": {},
   "source": [
    "## Figure for 20170627_patch1"
   ]
  },
  {
   "cell_type": "code",
   "execution_count": null,
   "metadata": {},
   "outputs": [],
   "source": [
    "plot_juxta_amplitude('20170627_patch1')"
   ]
  },
  {
   "cell_type": "markdown",
   "metadata": {},
   "source": [
    "## Figure for 20170630_patch1"
   ]
  },
  {
   "cell_type": "code",
   "execution_count": null,
   "metadata": {},
   "outputs": [],
   "source": [
    "plot_juxta_amplitude('20170630_patch1')"
   ]
  },
  {
   "cell_type": "markdown",
   "metadata": {},
   "source": [
    "## Figure for 20170629_patch3"
   ]
  },
  {
   "cell_type": "code",
   "execution_count": null,
   "metadata": {},
   "outputs": [],
   "source": [
    "plot_juxta_amplitude('20170629_patch3')"
   ]
  }
 ],
 "metadata": {
  "kernelspec": {
   "display_name": "Python 3",
   "language": "python",
   "name": "python3"
  },
  "language_info": {
   "codemirror_mode": {
    "name": "ipython",
    "version": 3
   },
   "file_extension": ".py",
   "mimetype": "text/x-python",
   "name": "python",
   "nbconvert_exporter": "python",
   "pygments_lexer": "ipython3",
   "version": "3.6.6"
  }
 },
 "nbformat": 4,
 "nbformat_minor": 2
}
