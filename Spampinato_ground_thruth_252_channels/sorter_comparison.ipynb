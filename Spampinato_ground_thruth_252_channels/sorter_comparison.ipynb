{
 "cells": [
  {
   "cell_type": "markdown",
   "metadata": {},
   "source": [
    "# Sorter comparison with ground truth recordings\n",
    "\n",
    "\n",
    "@author : Samuel Garcia\n",
    "\n",
    "\n",
    "Giulia  Spampinato from Institut de la Vision, Paris, have publish data from mice retina recorded invitro with from dense array.\n",
    "The data contain one ground truth to benchmark spike sorting tools. The ground truth is recorded with juxta celullar pipet.\n",
    "\n",
    "Here the official publication of this open dataset:\n",
    "https://zenodo.org/record/1205233#.W9mq1HWLTIF\n",
    "\n",
    "\n",
    "This datasets was used by Pierre Yger publish spyking circus:\n",
    "https://elifesciences.org/articles/34518\n",
    "\n",
    "\n",
    "In the original dataset, 19 files are provided.\n",
    "here we volontary keep only 9 files.\n",
    "See carrefully the notebook : **prepare_and_check_ground_truth.py.ipynb**\n",
    "\n",
    "\n",
    "\n",
    "\n"
   ]
  },
  {
   "cell_type": "markdown",
   "metadata": {},
   "source": [
    "## How to reproduce this notebook\n",
    "\n",
    "\n",
    "  1. to create a folder **basedir** somwhere.\n",
    "  2. download all files in zenodo link\n",
    "  3. put them all in a subfolder **basedir/original_files** (20160415_patch2.tar.gz, ...)\n",
    "  4. and then execute cells by cell this notebook\n",
    "  \n"
   ]
  },
  {
   "cell_type": "code",
   "execution_count": 1,
   "metadata": {},
   "outputs": [
    {
     "name": "stderr",
     "output_type": "stream",
     "text": [
      "/home/samuel/.virtualenvs/py36/lib/python3.6/site-packages/sklearn/externals/six.py:31: DeprecationWarning: The module is deprecated in version 0.21 and will be removed in version 0.23 since we've dropped support for Python 2.7. Please rely on the official version of six (https://pypi.org/project/six/).\n",
      "  \"(https://pypi.org/project/six/).\", DeprecationWarning)\n",
      "/home/samuel/.virtualenvs/py36/lib/python3.6/site-packages/sklearn/externals/joblib/__init__.py:15: DeprecationWarning: sklearn.externals.joblib is deprecated in 0.21 and will be removed in 0.23. Please import this functionality directly from joblib, which can be installed with: pip install joblib. If this warning is raised when loading pickled models, you may need to re-serialize those models with scikit-learn 0.21+.\n",
      "  warnings.warn(msg, category=DeprecationWarning)\n"
     ]
    }
   ],
   "source": [
    "import os\n",
    "import numpy as np\n",
    "import pandas as pd\n",
    "import matplotlib.pyplot as plt\n",
    "import seaborn as sns\n",
    "\n",
    "import spikeextractors as se\n",
    "import spiketoolkit as st\n",
    "from spiketoolkit.comparison import (setup_comparison_study, run_study_sorters,\n",
    "            aggregate_sorting_comparison, aggregate_performances_table)\n",
    "\n",
    "\n",
    "%matplotlib notebook"
   ]
  },
  {
   "cell_type": "markdown",
   "metadata": {},
   "source": [
    "## global variables"
   ]
  },
  {
   "cell_type": "code",
   "execution_count": 2,
   "metadata": {},
   "outputs": [],
   "source": [
    "# my working path\n",
    "# basedir = '/media/samuel/SamCNRS/DataSpikeSorting/pierre/zenodo/'\n",
    "basedir = '/home/samuel/DataSpikeSorting/Pierre/zenodo/'\n",
    "# basedir = '/mnt/data/sam/DataSpikeSorting/pierre_zenodo/'\n",
    "\n",
    "# input file\n",
    "recording_folder = basedir + 'original_files/'\n",
    "\n",
    "# ground truth information\n",
    "ground_truth_folder = basedir + 'ground_truth/'\n",
    "\n",
    "# where output will be\n",
    "study_folder = basedir + 'study_gt252/'\n",
    "\n",
    "# sorter list\n",
    "sorter_list = ['tridesclous']\n",
    "\n",
    "# selected recordings\n",
    "rec_names = [ '20160415_patch2', '20170803_patch1', '20170623_patch1', '20170622_patch1', '20160426_patch3', \n",
    "            '20170725_patch1', '20170621_patch1', '20160426_patch2', '20170728_patch2']\n"
   ]
  },
  {
   "cell_type": "markdown",
   "metadata": {},
   "source": [
    "# Step 1 : detect ground truth on the juxta cellular\n",
    "\n",
    "This external script:\n",
    "\n",
    "    * unzip all\n",
    "    * detect juxta peak\n",
    "    * make figures to check everything"
   ]
  },
  {
   "cell_type": "code",
   "execution_count": null,
   "metadata": {},
   "outputs": [],
   "source": [
    "%run detect_ground_truth_spike_on_juxta.py"
   ]
  },
  {
   "cell_type": "markdown",
   "metadata": {},
   "source": [
    "## Step 2 : check groud truth carcteristics\n",
    "\n",
    "This is done in a separate script to keep this doc simple."
   ]
  },
  {
   "cell_type": "code",
   "execution_count": 35,
   "metadata": {},
   "outputs": [
    {
     "name": "stderr",
     "output_type": "stream",
     "text": [
      "/home/samuel/.virtualenvs/py36/lib/python3.6/site-packages/xlrd/xlsx.py:266: PendingDeprecationWarning: This method will be removed in future versions.  Use 'tree.iter()' or 'list(tree.iter())' instead.\n",
      "  for elem in self.tree.iter() if Element_has_iter else self.tree.getiterator():\n",
      "/home/samuel/.virtualenvs/py36/lib/python3.6/site-packages/xlrd/xlsx.py:312: PendingDeprecationWarning: This method will be removed in future versions.  Use 'tree.iter()' or 'list(tree.iter())' instead.\n",
      "  for elem in self.tree.iter() if Element_has_iter else self.tree.getiterator():\n"
     ]
    },
    {
     "data": {
      "text/html": [
       "<div>\n",
       "<style scoped>\n",
       "    .dataframe tbody tr th:only-of-type {\n",
       "        vertical-align: middle;\n",
       "    }\n",
       "\n",
       "    .dataframe tbody tr th {\n",
       "        vertical-align: top;\n",
       "    }\n",
       "\n",
       "    .dataframe thead th {\n",
       "        text-align: right;\n",
       "    }\n",
       "</style>\n",
       "<table border=\"1\" class=\"dataframe\">\n",
       "  <thead>\n",
       "    <tr style=\"text-align: right;\">\n",
       "      <th></th>\n",
       "      <th>nb_spike</th>\n",
       "      <th>max_on_channel</th>\n",
       "      <th>peak_value</th>\n",
       "      <th>peak_snr</th>\n",
       "      <th>noise_mad</th>\n",
       "    </tr>\n",
       "  </thead>\n",
       "  <tbody>\n",
       "    <tr>\n",
       "      <th>20160415_patch2</th>\n",
       "      <td>3514</td>\n",
       "      <td>69</td>\n",
       "      <td>-399.0</td>\n",
       "      <td>8.681349</td>\n",
       "      <td>45.9606</td>\n",
       "    </tr>\n",
       "    <tr>\n",
       "      <th>20170803_patch1</th>\n",
       "      <td>7639</td>\n",
       "      <td>99</td>\n",
       "      <td>-644.0</td>\n",
       "      <td>12.775649</td>\n",
       "      <td>50.4084</td>\n",
       "    </tr>\n",
       "    <tr>\n",
       "      <th>20170623_patch1</th>\n",
       "      <td>699</td>\n",
       "      <td>137</td>\n",
       "      <td>-1495.0</td>\n",
       "      <td>38.783219</td>\n",
       "      <td>38.5476</td>\n",
       "    </tr>\n",
       "    <tr>\n",
       "      <th>20170622_patch1</th>\n",
       "      <td>4058</td>\n",
       "      <td>176</td>\n",
       "      <td>-411.0</td>\n",
       "      <td>9.240523</td>\n",
       "      <td>44.4780</td>\n",
       "    </tr>\n",
       "    <tr>\n",
       "      <th>20160426_patch3</th>\n",
       "      <td>1691</td>\n",
       "      <td>128</td>\n",
       "      <td>-862.0</td>\n",
       "      <td>7.359633</td>\n",
       "      <td>117.1254</td>\n",
       "    </tr>\n",
       "    <tr>\n",
       "      <th>20170725_patch1</th>\n",
       "      <td>380</td>\n",
       "      <td>129</td>\n",
       "      <td>-1024.5</td>\n",
       "      <td>27.640631</td>\n",
       "      <td>37.0650</td>\n",
       "    </tr>\n",
       "    <tr>\n",
       "      <th>20170621_patch1</th>\n",
       "      <td>4994</td>\n",
       "      <td>99</td>\n",
       "      <td>-940.0</td>\n",
       "      <td>15.463934</td>\n",
       "      <td>60.7866</td>\n",
       "    </tr>\n",
       "    <tr>\n",
       "      <th>20160426_patch2</th>\n",
       "      <td>879</td>\n",
       "      <td>230</td>\n",
       "      <td>-874.0</td>\n",
       "      <td>4.366703</td>\n",
       "      <td>200.1510</td>\n",
       "    </tr>\n",
       "    <tr>\n",
       "      <th>20170728_patch2</th>\n",
       "      <td>4748</td>\n",
       "      <td>118</td>\n",
       "      <td>-1080.0</td>\n",
       "      <td>22.074243</td>\n",
       "      <td>48.9258</td>\n",
       "    </tr>\n",
       "  </tbody>\n",
       "</table>\n",
       "</div>"
      ],
      "text/plain": [
       "                 nb_spike  max_on_channel  peak_value   peak_snr  noise_mad\n",
       "20160415_patch2      3514              69      -399.0   8.681349    45.9606\n",
       "20170803_patch1      7639              99      -644.0  12.775649    50.4084\n",
       "20170623_patch1       699             137     -1495.0  38.783219    38.5476\n",
       "20170622_patch1      4058             176      -411.0   9.240523    44.4780\n",
       "20160426_patch3      1691             128      -862.0   7.359633   117.1254\n",
       "20170725_patch1       380             129     -1024.5  27.640631    37.0650\n",
       "20170621_patch1      4994              99      -940.0  15.463934    60.7866\n",
       "20160426_patch2       879             230      -874.0   4.366703   200.1510\n",
       "20170728_patch2      4748             118     -1080.0  22.074243    48.9258"
      ]
     },
     "execution_count": 35,
     "metadata": {},
     "output_type": "execute_result"
    }
   ],
   "source": [
    "gt_info = pd.read_excel(ground_truth_folder+'gt_info.xlsx', index_col=0)\n",
    "gt_info.loc[rec_names, :]"
   ]
  },
  {
   "cell_type": "markdown",
   "metadata": {},
   "source": [
    "## Step 3: setup study\n",
    "\n",
    "In this step:\n",
    "  * we create a dict of (recordings+sorting)\n",
    "  * and call the function ```setup_comparison_study(study_folder, gt_dict)```\n",
    "\n",
    "Internanly spiketoolkit copy all recordings and ground truth sorting into a n organised folder.\n",
    "\n",
    "\n",
    "Important note :\n",
    "  * the file have 256 channels but only 252 are usefull.\n",
    "    The PRB file contain all channels needed so we need to explicit **grouping_property='group'**\n",
    "    to be sure to only take in account the channel in the unique group.\n",
    "  * This step have to run only once and take some times because of copy."
   ]
  },
  {
   "cell_type": "code",
   "execution_count": null,
   "metadata": {},
   "outputs": [],
   "source": [
    "gt_dict = {}\n",
    "for rec_name in rec_names:\n",
    "\n",
    "    # find raw file\n",
    "    dirname = recording_folder + rec_name + '/'\n",
    "    for f in os.listdir(dirname):\n",
    "        if f.endswith('.raw') and not f.endswith('juxta.raw'):\n",
    "            mea_filename = dirname + f\n",
    "\n",
    "    # raw files have an internal offset that depend on the channel count\n",
    "    # a simple built header can be parsed to get it\n",
    "    with open(mea_filename.replace('.raw', '.txt'), mode='r') as f:\n",
    "        offset = int(re.findall('padding = (\\d+)', f.read())[0])\n",
    "\n",
    "    # recording\n",
    "    rec = se.BinDatRecordingExtractor(mea_filename, 20000., 256, 'uint16', offset=offset, frames_first=True)\n",
    "\n",
    "    # this reduce channel count to 252\n",
    "    rec = se.load_probe_file(rec, basedir + 'mea_256.prb')\n",
    "\n",
    "    # gt sorting\n",
    "    gt_indexes = np.fromfile(ground_truth_folder + rec_name + '/juxta_peak_indexes.raw', dtype='int64')\n",
    "    sorting_gt = se.NumpySortingExtractor()\n",
    "    sorting_gt.set_times_labels(gt_indexes, np.zeros(gt_indexes.size, dtype='int64'))\n",
    "    sorting_gt.set_sampling_frequency(20000.0)\n",
    "\n",
    "    gt_dict[rec_name] = (rec, sorting_gt)\n",
    "\n",
    "setup_comparison_study(study_folder, gt_dict)"
   ]
  },
  {
   "cell_type": "markdown",
   "metadata": {},
   "source": [
    "# Step 4: run all sorters\n",
    "\n",
    "spiketoolkit have convinient function for that loop over all recordings and all sorter, compute and save the output sorting into a subfolder.\n",
    "\n",
    "Note:\n",
    "  * this can be run several times with other sorter\n",
    "  * the ```engine='loop'``` prevent to recompute something alreadu computed"
   ]
  },
  {
   "cell_type": "code",
   "execution_count": 13,
   "metadata": {},
   "outputs": [],
   "source": [
    "run_study_sorters(study_folder, sorter_list, mode='keep', engine='loop')"
   ]
  },
  {
   "cell_type": "markdown",
   "metadata": {},
   "source": [
    "## Step 4 : collect results\n",
    "\n",
    "This collect in the folder all output sorting and compare then the ground truth.\n",
    "Internally it is just a loop and a use of the class ```GroundTruthComparison```.\n",
    "\n",
    "  * comparisons: contains all GroundTruthComparison\n",
    "  * dataframes: contains some synthetic dataframes that summary results\n",
    "\n"
   ]
  },
  {
   "cell_type": "code",
   "execution_count": 3,
   "metadata": {},
   "outputs": [
    {
     "name": "stdout",
     "output_type": "stream",
     "text": [
      "dict_keys([('20170803_patch1', 'tridesclous'), ('20170728_patch2', 'tridesclous'), ('20170623_patch1', 'tridesclous'), ('20170622_patch1', 'tridesclous'), ('20160415_patch2', 'tridesclous'), ('20160426_patch3', 'tridesclous'), ('20170725_patch1', 'tridesclous'), ('20170621_patch1', 'tridesclous'), ('20160426_patch2', 'tridesclous')])\n",
      "<spiketoolkit.comparison.groundtruthcomparison.GroundTruthComparison object at 0x7fa8e2751f60>\n"
     ]
    },
    {
     "name": "stderr",
     "output_type": "stream",
     "text": [
      "/home/samuel/smb4k/CRNLDATA/home/samuel.garcia/Documents/spiketoolkit/spiketoolkit/comparison/groundtruthcomparison.py:309: RuntimeWarning: invalid value encountered in long_scalars\n",
      "  perf['precision'] = tp / (tp + fp)\n",
      "/home/samuel/smb4k/CRNLDATA/home/samuel.garcia/Documents/spiketoolkit/spiketoolkit/comparison/groundtruthcomparison.py:310: RuntimeWarning: invalid value encountered in long_scalars\n",
      "  perf['false_discovery_rate'] = fp / (tp + fp)\n"
     ]
    }
   ],
   "source": [
    "comparisons = aggregate_sorting_comparison(study_folder, exhaustive_gt=False)\n",
    "dataframes = aggregate_performances_table(study_folder, exhaustive_gt=False)\n",
    "\n",
    "print(comparisons.keys())\n",
    "print(comparisons[('20170803_patch1', 'tridesclous')])"
   ]
  },
  {
   "cell_type": "markdown",
   "metadata": {},
   "source": [
    "## Compare run speed\n",
    "\n",
    "The speed here are totally wrong because sorters have been launch on several computers.\n",
    "This is just to show that it is possible."
   ]
  },
  {
   "cell_type": "code",
   "execution_count": 4,
   "metadata": {},
   "outputs": [
    {
     "data": {
      "text/html": [
       "<div>\n",
       "<style scoped>\n",
       "    .dataframe tbody tr th:only-of-type {\n",
       "        vertical-align: middle;\n",
       "    }\n",
       "\n",
       "    .dataframe tbody tr th {\n",
       "        vertical-align: top;\n",
       "    }\n",
       "\n",
       "    .dataframe thead th {\n",
       "        text-align: right;\n",
       "    }\n",
       "</style>\n",
       "<table border=\"1\" class=\"dataframe\">\n",
       "  <thead>\n",
       "    <tr style=\"text-align: right;\">\n",
       "      <th></th>\n",
       "      <th></th>\n",
       "      <th>run_time</th>\n",
       "    </tr>\n",
       "    <tr>\n",
       "      <th>rec_name</th>\n",
       "      <th>sorter_name</th>\n",
       "      <th></th>\n",
       "    </tr>\n",
       "  </thead>\n",
       "  <tbody>\n",
       "    <tr>\n",
       "      <th>20170725_patch1</th>\n",
       "      <th>tridesclous</th>\n",
       "      <td>1499.795078</td>\n",
       "    </tr>\n",
       "    <tr>\n",
       "      <th>20160415_patch2</th>\n",
       "      <th>tridesclous</th>\n",
       "      <td>927.239008</td>\n",
       "    </tr>\n",
       "    <tr>\n",
       "      <th>20170621_patch1</th>\n",
       "      <th>tridesclous</th>\n",
       "      <td>2284.482146</td>\n",
       "    </tr>\n",
       "    <tr>\n",
       "      <th>20170803_patch1</th>\n",
       "      <th>tridesclous</th>\n",
       "      <td>1204.635710</td>\n",
       "    </tr>\n",
       "    <tr>\n",
       "      <th>20170623_patch1</th>\n",
       "      <th>tridesclous</th>\n",
       "      <td>1202.718436</td>\n",
       "    </tr>\n",
       "    <tr>\n",
       "      <th>20170622_patch1</th>\n",
       "      <th>tridesclous</th>\n",
       "      <td>816.453647</td>\n",
       "    </tr>\n",
       "    <tr>\n",
       "      <th>20160426_patch2</th>\n",
       "      <th>tridesclous</th>\n",
       "      <td>412.889644</td>\n",
       "    </tr>\n",
       "    <tr>\n",
       "      <th>20170728_patch2</th>\n",
       "      <th>tridesclous</th>\n",
       "      <td>1447.601485</td>\n",
       "    </tr>\n",
       "    <tr>\n",
       "      <th>20160426_patch3</th>\n",
       "      <th>tridesclous</th>\n",
       "      <td>407.517558</td>\n",
       "    </tr>\n",
       "  </tbody>\n",
       "</table>\n",
       "</div>"
      ],
      "text/plain": [
       "                                run_time\n",
       "rec_name        sorter_name             \n",
       "20170725_patch1 tridesclous  1499.795078\n",
       "20160415_patch2 tridesclous   927.239008\n",
       "20170621_patch1 tridesclous  2284.482146\n",
       "20170803_patch1 tridesclous  1204.635710\n",
       "20170623_patch1 tridesclous  1202.718436\n",
       "20170622_patch1 tridesclous   816.453647\n",
       "20160426_patch2 tridesclous   412.889644\n",
       "20170728_patch2 tridesclous  1447.601485\n",
       "20160426_patch3 tridesclous   407.517558"
      ]
     },
     "execution_count": 4,
     "metadata": {},
     "output_type": "execute_result"
    }
   ],
   "source": [
    "run_times = dataframes['run_times']\n",
    "run_times"
   ]
  },
  {
   "cell_type": "code",
   "execution_count": 5,
   "metadata": {},
   "outputs": [
    {
     "data": {
      "text/plain": [
       "Text(0.5, 1.0, 'Run times')"
      ]
     },
     "execution_count": 5,
     "metadata": {},
     "output_type": "execute_result"
    },
    {
     "data": {
      "image/png": "[encoded data removed]",
      "text/plain": [
       "<Figure size 432x288 with 1 Axes>"
      ]
     },
     "metadata": {
      "needs_background": "light"
     },
     "output_type": "display_data"
    }
   ],
   "source": [
    "run_times = dataframes['run_times'].reset_index()\n",
    "fig, ax = plt.subplots()\n",
    "sns.barplot(data=run_times, x='rec_name', y='run_time', hue='sorter_name', ax=ax)\n",
    "ax.set_title('Run times')"
   ]
  },
  {
   "cell_type": "markdown",
   "metadata": {},
   "source": [
    "## Compare global performances\n",
    "\n",
    "In our case **dataframes['perf_pooled_with_sum']** and **dataframes['perf_pooled_with_average']** because there is only one unique ground truth cells per recordings we will call it perfs."
   ]
  },
  {
   "cell_type": "code",
   "execution_count": 6,
   "metadata": {},
   "outputs": [
    {
     "data": {
      "text/html": [
       "<div>\n",
       "<style scoped>\n",
       "    .dataframe tbody tr th:only-of-type {\n",
       "        vertical-align: middle;\n",
       "    }\n",
       "\n",
       "    .dataframe tbody tr th {\n",
       "        vertical-align: top;\n",
       "    }\n",
       "\n",
       "    .dataframe thead th {\n",
       "        text-align: right;\n",
       "    }\n",
       "</style>\n",
       "<table border=\"1\" class=\"dataframe\">\n",
       "  <thead>\n",
       "    <tr style=\"text-align: right;\">\n",
       "      <th></th>\n",
       "      <th></th>\n",
       "      <th>accuracy</th>\n",
       "      <th>recall</th>\n",
       "      <th>precision</th>\n",
       "      <th>false_discovery_rate</th>\n",
       "      <th>miss_rate</th>\n",
       "      <th>misclassification_rate</th>\n",
       "    </tr>\n",
       "    <tr>\n",
       "      <th>rec_name</th>\n",
       "      <th>sorter_name</th>\n",
       "      <th></th>\n",
       "      <th></th>\n",
       "      <th></th>\n",
       "      <th></th>\n",
       "      <th></th>\n",
       "      <th></th>\n",
       "    </tr>\n",
       "  </thead>\n",
       "  <tbody>\n",
       "    <tr>\n",
       "      <th>20170725_patch1</th>\n",
       "      <th>tridesclous</th>\n",
       "      <td>0.968421</td>\n",
       "      <td>0.968421</td>\n",
       "      <td>1</td>\n",
       "      <td>0</td>\n",
       "      <td>0.0315789</td>\n",
       "      <td>0</td>\n",
       "    </tr>\n",
       "    <tr>\n",
       "      <th>20160415_patch2</th>\n",
       "      <th>tridesclous</th>\n",
       "      <td>0</td>\n",
       "      <td>0</td>\n",
       "      <td>NaN</td>\n",
       "      <td>NaN</td>\n",
       "      <td>1</td>\n",
       "      <td>0</td>\n",
       "    </tr>\n",
       "    <tr>\n",
       "      <th>20170621_patch1</th>\n",
       "      <th>tridesclous</th>\n",
       "      <td>0</td>\n",
       "      <td>0</td>\n",
       "      <td>NaN</td>\n",
       "      <td>NaN</td>\n",
       "      <td>1</td>\n",
       "      <td>0</td>\n",
       "    </tr>\n",
       "    <tr>\n",
       "      <th>20170803_patch1</th>\n",
       "      <th>tridesclous</th>\n",
       "      <td>0.928223</td>\n",
       "      <td>0.99712</td>\n",
       "      <td>0.930718</td>\n",
       "      <td>0.0692815</td>\n",
       "      <td>0.00287996</td>\n",
       "      <td>0</td>\n",
       "    </tr>\n",
       "    <tr>\n",
       "      <th>20170623_patch1</th>\n",
       "      <th>tridesclous</th>\n",
       "      <td>0.944369</td>\n",
       "      <td>0.995708</td>\n",
       "      <td>0.948229</td>\n",
       "      <td>0.0517711</td>\n",
       "      <td>0.00429185</td>\n",
       "      <td>0</td>\n",
       "    </tr>\n",
       "    <tr>\n",
       "      <th>20170622_patch1</th>\n",
       "      <th>tridesclous</th>\n",
       "      <td>0.791944</td>\n",
       "      <td>0.96895</td>\n",
       "      <td>0.812565</td>\n",
       "      <td>0.187435</td>\n",
       "      <td>0.0310498</td>\n",
       "      <td>0</td>\n",
       "    </tr>\n",
       "    <tr>\n",
       "      <th>20160426_patch2</th>\n",
       "      <th>tridesclous</th>\n",
       "      <td>0</td>\n",
       "      <td>0</td>\n",
       "      <td>NaN</td>\n",
       "      <td>NaN</td>\n",
       "      <td>1</td>\n",
       "      <td>0</td>\n",
       "    </tr>\n",
       "    <tr>\n",
       "      <th>20170728_patch2</th>\n",
       "      <th>tridesclous</th>\n",
       "      <td>0.997263</td>\n",
       "      <td>0.997473</td>\n",
       "      <td>0.999789</td>\n",
       "      <td>0.000211104</td>\n",
       "      <td>0.00252738</td>\n",
       "      <td>0</td>\n",
       "    </tr>\n",
       "    <tr>\n",
       "      <th>20160426_patch3</th>\n",
       "      <th>tridesclous</th>\n",
       "      <td>0</td>\n",
       "      <td>0</td>\n",
       "      <td>NaN</td>\n",
       "      <td>NaN</td>\n",
       "      <td>1</td>\n",
       "      <td>0</td>\n",
       "    </tr>\n",
       "  </tbody>\n",
       "</table>\n",
       "</div>"
      ],
      "text/plain": [
       "                             accuracy    recall precision  \\\n",
       "rec_name        sorter_name                                 \n",
       "20170725_patch1 tridesclous  0.968421  0.968421         1   \n",
       "20160415_patch2 tridesclous         0         0       NaN   \n",
       "20170621_patch1 tridesclous         0         0       NaN   \n",
       "20170803_patch1 tridesclous  0.928223   0.99712  0.930718   \n",
       "20170623_patch1 tridesclous  0.944369  0.995708  0.948229   \n",
       "20170622_patch1 tridesclous  0.791944   0.96895  0.812565   \n",
       "20160426_patch2 tridesclous         0         0       NaN   \n",
       "20170728_patch2 tridesclous  0.997263  0.997473  0.999789   \n",
       "20160426_patch3 tridesclous         0         0       NaN   \n",
       "\n",
       "                            false_discovery_rate   miss_rate  \\\n",
       "rec_name        sorter_name                                    \n",
       "20170725_patch1 tridesclous                    0   0.0315789   \n",
       "20160415_patch2 tridesclous                  NaN           1   \n",
       "20170621_patch1 tridesclous                  NaN           1   \n",
       "20170803_patch1 tridesclous            0.0692815  0.00287996   \n",
       "20170623_patch1 tridesclous            0.0517711  0.00429185   \n",
       "20170622_patch1 tridesclous             0.187435   0.0310498   \n",
       "20160426_patch2 tridesclous                  NaN           1   \n",
       "20170728_patch2 tridesclous          0.000211104  0.00252738   \n",
       "20160426_patch3 tridesclous                  NaN           1   \n",
       "\n",
       "                            misclassification_rate  \n",
       "rec_name        sorter_name                         \n",
       "20170725_patch1 tridesclous                      0  \n",
       "20160415_patch2 tridesclous                      0  \n",
       "20170621_patch1 tridesclous                      0  \n",
       "20170803_patch1 tridesclous                      0  \n",
       "20170623_patch1 tridesclous                      0  \n",
       "20170622_patch1 tridesclous                      0  \n",
       "20160426_patch2 tridesclous                      0  \n",
       "20170728_patch2 tridesclous                      0  \n",
       "20160426_patch3 tridesclous                      0  "
      ]
     },
     "execution_count": 6,
     "metadata": {},
     "output_type": "execute_result"
    }
   ],
   "source": [
    "dataframes['perf_pooled_with_sum']"
   ]
  },
  {
   "cell_type": "code",
   "execution_count": 7,
   "metadata": {},
   "outputs": [
    {
     "data": {
      "text/html": [
       "<div>\n",
       "<style scoped>\n",
       "    .dataframe tbody tr th:only-of-type {\n",
       "        vertical-align: middle;\n",
       "    }\n",
       "\n",
       "    .dataframe tbody tr th {\n",
       "        vertical-align: top;\n",
       "    }\n",
       "\n",
       "    .dataframe thead th {\n",
       "        text-align: right;\n",
       "    }\n",
       "</style>\n",
       "<table border=\"1\" class=\"dataframe\">\n",
       "  <thead>\n",
       "    <tr style=\"text-align: right;\">\n",
       "      <th></th>\n",
       "      <th></th>\n",
       "      <th>accuracy</th>\n",
       "      <th>recall</th>\n",
       "      <th>precision</th>\n",
       "      <th>false_discovery_rate</th>\n",
       "      <th>miss_rate</th>\n",
       "      <th>misclassification_rate</th>\n",
       "    </tr>\n",
       "    <tr>\n",
       "      <th>rec_name</th>\n",
       "      <th>sorter_name</th>\n",
       "      <th></th>\n",
       "      <th></th>\n",
       "      <th></th>\n",
       "      <th></th>\n",
       "      <th></th>\n",
       "      <th></th>\n",
       "    </tr>\n",
       "  </thead>\n",
       "  <tbody>\n",
       "    <tr>\n",
       "      <th>20170725_patch1</th>\n",
       "      <th>tridesclous</th>\n",
       "      <td>0.968421</td>\n",
       "      <td>0.968421</td>\n",
       "      <td>1</td>\n",
       "      <td>0</td>\n",
       "      <td>0.0315789</td>\n",
       "      <td>0</td>\n",
       "    </tr>\n",
       "    <tr>\n",
       "      <th>20160415_patch2</th>\n",
       "      <th>tridesclous</th>\n",
       "      <td>0</td>\n",
       "      <td>0</td>\n",
       "      <td>NaN</td>\n",
       "      <td>NaN</td>\n",
       "      <td>1</td>\n",
       "      <td>0</td>\n",
       "    </tr>\n",
       "    <tr>\n",
       "      <th>20170621_patch1</th>\n",
       "      <th>tridesclous</th>\n",
       "      <td>0</td>\n",
       "      <td>0</td>\n",
       "      <td>NaN</td>\n",
       "      <td>NaN</td>\n",
       "      <td>1</td>\n",
       "      <td>0</td>\n",
       "    </tr>\n",
       "    <tr>\n",
       "      <th>20170803_patch1</th>\n",
       "      <th>tridesclous</th>\n",
       "      <td>0.928223</td>\n",
       "      <td>0.99712</td>\n",
       "      <td>0.930718</td>\n",
       "      <td>0.0692815</td>\n",
       "      <td>0.00287996</td>\n",
       "      <td>0</td>\n",
       "    </tr>\n",
       "    <tr>\n",
       "      <th>20170623_patch1</th>\n",
       "      <th>tridesclous</th>\n",
       "      <td>0.944369</td>\n",
       "      <td>0.995708</td>\n",
       "      <td>0.948229</td>\n",
       "      <td>0.0517711</td>\n",
       "      <td>0.00429185</td>\n",
       "      <td>0</td>\n",
       "    </tr>\n",
       "    <tr>\n",
       "      <th>20170622_patch1</th>\n",
       "      <th>tridesclous</th>\n",
       "      <td>0.791944</td>\n",
       "      <td>0.96895</td>\n",
       "      <td>0.812565</td>\n",
       "      <td>0.187435</td>\n",
       "      <td>0.0310498</td>\n",
       "      <td>0</td>\n",
       "    </tr>\n",
       "    <tr>\n",
       "      <th>20160426_patch2</th>\n",
       "      <th>tridesclous</th>\n",
       "      <td>0</td>\n",
       "      <td>0</td>\n",
       "      <td>NaN</td>\n",
       "      <td>NaN</td>\n",
       "      <td>1</td>\n",
       "      <td>0</td>\n",
       "    </tr>\n",
       "    <tr>\n",
       "      <th>20170728_patch2</th>\n",
       "      <th>tridesclous</th>\n",
       "      <td>0.997263</td>\n",
       "      <td>0.997473</td>\n",
       "      <td>0.999789</td>\n",
       "      <td>0.000211104</td>\n",
       "      <td>0.00252738</td>\n",
       "      <td>0</td>\n",
       "    </tr>\n",
       "    <tr>\n",
       "      <th>20160426_patch3</th>\n",
       "      <th>tridesclous</th>\n",
       "      <td>0</td>\n",
       "      <td>0</td>\n",
       "      <td>NaN</td>\n",
       "      <td>NaN</td>\n",
       "      <td>1</td>\n",
       "      <td>0</td>\n",
       "    </tr>\n",
       "  </tbody>\n",
       "</table>\n",
       "</div>"
      ],
      "text/plain": [
       "                             accuracy    recall precision  \\\n",
       "rec_name        sorter_name                                 \n",
       "20170725_patch1 tridesclous  0.968421  0.968421         1   \n",
       "20160415_patch2 tridesclous         0         0       NaN   \n",
       "20170621_patch1 tridesclous         0         0       NaN   \n",
       "20170803_patch1 tridesclous  0.928223   0.99712  0.930718   \n",
       "20170623_patch1 tridesclous  0.944369  0.995708  0.948229   \n",
       "20170622_patch1 tridesclous  0.791944   0.96895  0.812565   \n",
       "20160426_patch2 tridesclous         0         0       NaN   \n",
       "20170728_patch2 tridesclous  0.997263  0.997473  0.999789   \n",
       "20160426_patch3 tridesclous         0         0       NaN   \n",
       "\n",
       "                            false_discovery_rate   miss_rate  \\\n",
       "rec_name        sorter_name                                    \n",
       "20170725_patch1 tridesclous                    0   0.0315789   \n",
       "20160415_patch2 tridesclous                  NaN           1   \n",
       "20170621_patch1 tridesclous                  NaN           1   \n",
       "20170803_patch1 tridesclous            0.0692815  0.00287996   \n",
       "20170623_patch1 tridesclous            0.0517711  0.00429185   \n",
       "20170622_patch1 tridesclous             0.187435   0.0310498   \n",
       "20160426_patch2 tridesclous                  NaN           1   \n",
       "20170728_patch2 tridesclous          0.000211104  0.00252738   \n",
       "20160426_patch3 tridesclous                  NaN           1   \n",
       "\n",
       "                            misclassification_rate  \n",
       "rec_name        sorter_name                         \n",
       "20170725_patch1 tridesclous                      0  \n",
       "20160415_patch2 tridesclous                      0  \n",
       "20170621_patch1 tridesclous                      0  \n",
       "20170803_patch1 tridesclous                      0  \n",
       "20170623_patch1 tridesclous                      0  \n",
       "20170622_patch1 tridesclous                      0  \n",
       "20160426_patch2 tridesclous                      0  \n",
       "20170728_patch2 tridesclous                      0  \n",
       "20160426_patch3 tridesclous                      0  "
      ]
     },
     "execution_count": 7,
     "metadata": {},
     "output_type": "execute_result"
    }
   ],
   "source": [
    "dataframes['perf_pooled_with_average']"
   ]
  },
  {
   "cell_type": "code",
   "execution_count": 8,
   "metadata": {},
   "outputs": [],
   "source": [
    "# so we simplify\n",
    "perfs = dataframes['perf_pooled_with_average'].reset_index()"
   ]
  },
  {
   "cell_type": "code",
   "execution_count": 9,
   "metadata": {},
   "outputs": [
    {
     "data": {
      "image/png": "[encoded data removed]",
      "text/plain": [
       "<Figure size 432x288 with 1 Axes>"
      ]
     },
     "metadata": {
      "needs_background": "light"
     },
     "output_type": "display_data"
    }
   ],
   "source": [
    "fig, ax = plt.subplots()\n",
    "sns.barplot(data=perfs, x='rec_name', y='accuracy', hue='sorter_name', ax=ax)\n",
    "ax.set_title('accuracy')\n",
    "ax.set_ylim(0, 1.)\n",
    "r = plt.setp(ax.xaxis.get_majorticklabels(), rotation=55, ha='right')"
   ]
  },
  {
   "cell_type": "code",
   "execution_count": 10,
   "metadata": {},
   "outputs": [
    {
     "data": {
      "image/png": "[encoded data removed]",
      "text/plain": [
       "<Figure size 432x288 with 1 Axes>"
      ]
     },
     "metadata": {
      "needs_background": "light"
     },
     "output_type": "display_data"
    }
   ],
   "source": [
    "fig, ax = plt.subplots()\n",
    "sns.barplot(data=perfs, x='rec_name', y='recall', hue='sorter_name', ax=ax)\n",
    "ax.set_title('recall')\n",
    "ax.set_ylim(0, 1.)\n",
    "r = plt.setp(ax.xaxis.get_majorticklabels(), rotation=55, ha='right')"
   ]
  },
  {
   "cell_type": "code",
   "execution_count": 11,
   "metadata": {},
   "outputs": [
    {
     "data": {
      "image/png": "[encoded data removed]",
      "text/plain": [
       "<Figure size 432x288 with 1 Axes>"
      ]
     },
     "metadata": {
      "needs_background": "light"
     },
     "output_type": "display_data"
    }
   ],
   "source": [
    "fig, ax = plt.subplots()\n",
    "sns.barplot(data=perfs, x='rec_name', y='precision', hue='sorter_name', ax=ax)\n",
    "ax.set_title('precision')\n",
    "ax.set_ylim(0, 1.)\n",
    "r = plt.setp(ax.xaxis.get_majorticklabels(), rotation=55, ha='right')"
   ]
  },
  {
   "cell_type": "markdown",
   "metadata": {},
   "source": [
    "# Accuracy vs peak amplitude SNR"
   ]
  },
  {
   "cell_type": "code",
   "execution_count": 41,
   "metadata": {},
   "outputs": [],
   "source": [
    "# inject in snr in perf tables\n",
    "perfs_snr = perfs.copy()\n",
    "perfs_snr['snr'] = None\n",
    "for rec_name in rec_names:\n",
    "    peak_snr = gt_info.loc[rec_name, 'peak_snr']\n",
    "    perfs_snr.loc[perfs_snr['rec_name']==rec_name, 'snr'] = peak_snr\n"
   ]
  },
  {
   "cell_type": "code",
   "execution_count": 45,
   "metadata": {},
   "outputs": [
    {
     "data": {
      "text/plain": [
       "<matplotlib.collections.PathCollection at 0x7fa8e1fbe400>"
      ]
     },
     "execution_count": 45,
     "metadata": {},
     "output_type": "execute_result"
    },
    {
     "data": {
      "image/png": "[encoded data removed]",
      "text/plain": [
       "<Figure size 432x288 with 1 Axes>"
      ]
     },
     "metadata": {
      "needs_background": "light"
     },
     "output_type": "display_data"
    }
   ],
   "source": [
    "fig, ax = plt.subplots()\n",
    "data = perfs_snr\n",
    "ax.scatter(data['snr'], data['accuracy'], )\n"
   ]
  },
  {
   "cell_type": "markdown",
   "metadata": {},
   "source": [
    "# Count how many well detected units\n",
    "\n",
    "\n",
    "In dataframes['count_units'] we can check how many units in ground truth, in the tested sorter.\n",
    "And also *\"how many weel detected\"* which means settings some threholds and criteria.\n",
    "\n",
    "\n",
    "By default well detected units is for **accuracy>0.95** which is very strict.\n",
    "This can be explore with other thresholds.\n",
    "\n"
   ]
  },
  {
   "cell_type": "code",
   "execution_count": 28,
   "metadata": {},
   "outputs": [
    {
     "data": {
      "text/html": [
       "<div>\n",
       "<style scoped>\n",
       "    .dataframe tbody tr th:only-of-type {\n",
       "        vertical-align: middle;\n",
       "    }\n",
       "\n",
       "    .dataframe tbody tr th {\n",
       "        vertical-align: top;\n",
       "    }\n",
       "\n",
       "    .dataframe thead th {\n",
       "        text-align: right;\n",
       "    }\n",
       "</style>\n",
       "<table border=\"1\" class=\"dataframe\">\n",
       "  <thead>\n",
       "    <tr style=\"text-align: right;\">\n",
       "      <th></th>\n",
       "      <th></th>\n",
       "      <th>num_well_detected</th>\n",
       "    </tr>\n",
       "    <tr>\n",
       "      <th>rec_name</th>\n",
       "      <th>sorter_name</th>\n",
       "      <th></th>\n",
       "    </tr>\n",
       "  </thead>\n",
       "  <tbody>\n",
       "    <tr>\n",
       "      <th>20170725_patch1</th>\n",
       "      <th>tridesclous</th>\n",
       "      <td>1</td>\n",
       "    </tr>\n",
       "    <tr>\n",
       "      <th>20160415_patch2</th>\n",
       "      <th>tridesclous</th>\n",
       "      <td>0</td>\n",
       "    </tr>\n",
       "    <tr>\n",
       "      <th>20170621_patch1</th>\n",
       "      <th>tridesclous</th>\n",
       "      <td>0</td>\n",
       "    </tr>\n",
       "    <tr>\n",
       "      <th>20170803_patch1</th>\n",
       "      <th>tridesclous</th>\n",
       "      <td>1</td>\n",
       "    </tr>\n",
       "    <tr>\n",
       "      <th>20170623_patch1</th>\n",
       "      <th>tridesclous</th>\n",
       "      <td>1</td>\n",
       "    </tr>\n",
       "    <tr>\n",
       "      <th>20170622_patch1</th>\n",
       "      <th>tridesclous</th>\n",
       "      <td>0</td>\n",
       "    </tr>\n",
       "    <tr>\n",
       "      <th>20160426_patch2</th>\n",
       "      <th>tridesclous</th>\n",
       "      <td>0</td>\n",
       "    </tr>\n",
       "    <tr>\n",
       "      <th>20170728_patch2</th>\n",
       "      <th>tridesclous</th>\n",
       "      <td>1</td>\n",
       "    </tr>\n",
       "    <tr>\n",
       "      <th>20160426_patch3</th>\n",
       "      <th>tridesclous</th>\n",
       "      <td>0</td>\n",
       "    </tr>\n",
       "  </tbody>\n",
       "</table>\n",
       "</div>"
      ],
      "text/plain": [
       "                             num_well_detected\n",
       "rec_name        sorter_name                   \n",
       "20170725_patch1 tridesclous                  1\n",
       "20160415_patch2 tridesclous                  0\n",
       "20170621_patch1 tridesclous                  0\n",
       "20170803_patch1 tridesclous                  1\n",
       "20170623_patch1 tridesclous                  1\n",
       "20170622_patch1 tridesclous                  0\n",
       "20160426_patch2 tridesclous                  0\n",
       "20170728_patch2 tridesclous                  1\n",
       "20160426_patch3 tridesclous                  0"
      ]
     },
     "execution_count": 28,
     "metadata": {},
     "output_type": "execute_result"
    }
   ],
   "source": [
    "dataframes = aggregate_performances_table(study_folder, accuracy=0.9)\n",
    "dataframes['count_units'][['num_well_detected']]"
   ]
  },
  {
   "cell_type": "code",
   "execution_count": 29,
   "metadata": {},
   "outputs": [
    {
     "data": {
      "text/html": [
       "<div>\n",
       "<style scoped>\n",
       "    .dataframe tbody tr th:only-of-type {\n",
       "        vertical-align: middle;\n",
       "    }\n",
       "\n",
       "    .dataframe tbody tr th {\n",
       "        vertical-align: top;\n",
       "    }\n",
       "\n",
       "    .dataframe thead th {\n",
       "        text-align: right;\n",
       "    }\n",
       "</style>\n",
       "<table border=\"1\" class=\"dataframe\">\n",
       "  <thead>\n",
       "    <tr style=\"text-align: right;\">\n",
       "      <th></th>\n",
       "      <th></th>\n",
       "      <th>num_well_detected</th>\n",
       "    </tr>\n",
       "    <tr>\n",
       "      <th>rec_name</th>\n",
       "      <th>sorter_name</th>\n",
       "      <th></th>\n",
       "    </tr>\n",
       "  </thead>\n",
       "  <tbody>\n",
       "    <tr>\n",
       "      <th>20170725_patch1</th>\n",
       "      <th>tridesclous</th>\n",
       "      <td>1</td>\n",
       "    </tr>\n",
       "    <tr>\n",
       "      <th>20160415_patch2</th>\n",
       "      <th>tridesclous</th>\n",
       "      <td>0</td>\n",
       "    </tr>\n",
       "    <tr>\n",
       "      <th>20170621_patch1</th>\n",
       "      <th>tridesclous</th>\n",
       "      <td>0</td>\n",
       "    </tr>\n",
       "    <tr>\n",
       "      <th>20170803_patch1</th>\n",
       "      <th>tridesclous</th>\n",
       "      <td>1</td>\n",
       "    </tr>\n",
       "    <tr>\n",
       "      <th>20170623_patch1</th>\n",
       "      <th>tridesclous</th>\n",
       "      <td>1</td>\n",
       "    </tr>\n",
       "    <tr>\n",
       "      <th>20170622_patch1</th>\n",
       "      <th>tridesclous</th>\n",
       "      <td>0</td>\n",
       "    </tr>\n",
       "    <tr>\n",
       "      <th>20160426_patch2</th>\n",
       "      <th>tridesclous</th>\n",
       "      <td>0</td>\n",
       "    </tr>\n",
       "    <tr>\n",
       "      <th>20170728_patch2</th>\n",
       "      <th>tridesclous</th>\n",
       "      <td>1</td>\n",
       "    </tr>\n",
       "    <tr>\n",
       "      <th>20160426_patch3</th>\n",
       "      <th>tridesclous</th>\n",
       "      <td>0</td>\n",
       "    </tr>\n",
       "  </tbody>\n",
       "</table>\n",
       "</div>"
      ],
      "text/plain": [
       "                             num_well_detected\n",
       "rec_name        sorter_name                   \n",
       "20170725_patch1 tridesclous                  1\n",
       "20160415_patch2 tridesclous                  0\n",
       "20170621_patch1 tridesclous                  0\n",
       "20170803_patch1 tridesclous                  1\n",
       "20170623_patch1 tridesclous                  1\n",
       "20170622_patch1 tridesclous                  0\n",
       "20160426_patch2 tridesclous                  0\n",
       "20170728_patch2 tridesclous                  1\n",
       "20160426_patch3 tridesclous                  0"
      ]
     },
     "execution_count": 29,
     "metadata": {},
     "output_type": "execute_result"
    }
   ],
   "source": [
    "dataframes = aggregate_performances_table(study_folder, accuracy=0.8)\n",
    "dataframes['count_units'][['num_well_detected']]"
   ]
  },
  {
   "cell_type": "markdown",
   "metadata": {},
   "source": [
    "# Count how many redundant units\n",
    "\n",
    "Some sorter have the following pathology :  detecting a units twice or more!!!\n",
    "This is particulary true for template matching sorters because they have internally a redundant dictionary.\n",
    "We can measure this by counting how many units match the ground truth axcept the best one.\n"
   ]
  },
  {
   "cell_type": "code",
   "execution_count": 31,
   "metadata": {},
   "outputs": [
    {
     "data": {
      "text/html": [
       "<div>\n",
       "<style scoped>\n",
       "    .dataframe tbody tr th:only-of-type {\n",
       "        vertical-align: middle;\n",
       "    }\n",
       "\n",
       "    .dataframe tbody tr th {\n",
       "        vertical-align: top;\n",
       "    }\n",
       "\n",
       "    .dataframe thead th {\n",
       "        text-align: right;\n",
       "    }\n",
       "</style>\n",
       "<table border=\"1\" class=\"dataframe\">\n",
       "  <thead>\n",
       "    <tr style=\"text-align: right;\">\n",
       "      <th></th>\n",
       "      <th></th>\n",
       "      <th>num_redundant</th>\n",
       "    </tr>\n",
       "    <tr>\n",
       "      <th>rec_name</th>\n",
       "      <th>sorter_name</th>\n",
       "      <th></th>\n",
       "    </tr>\n",
       "  </thead>\n",
       "  <tbody>\n",
       "    <tr>\n",
       "      <th>20170725_patch1</th>\n",
       "      <th>tridesclous</th>\n",
       "      <td>0</td>\n",
       "    </tr>\n",
       "    <tr>\n",
       "      <th>20160415_patch2</th>\n",
       "      <th>tridesclous</th>\n",
       "      <td>0</td>\n",
       "    </tr>\n",
       "    <tr>\n",
       "      <th>20170621_patch1</th>\n",
       "      <th>tridesclous</th>\n",
       "      <td>0</td>\n",
       "    </tr>\n",
       "    <tr>\n",
       "      <th>20170803_patch1</th>\n",
       "      <th>tridesclous</th>\n",
       "      <td>0</td>\n",
       "    </tr>\n",
       "    <tr>\n",
       "      <th>20170623_patch1</th>\n",
       "      <th>tridesclous</th>\n",
       "      <td>0</td>\n",
       "    </tr>\n",
       "    <tr>\n",
       "      <th>20170622_patch1</th>\n",
       "      <th>tridesclous</th>\n",
       "      <td>0</td>\n",
       "    </tr>\n",
       "    <tr>\n",
       "      <th>20160426_patch2</th>\n",
       "      <th>tridesclous</th>\n",
       "      <td>0</td>\n",
       "    </tr>\n",
       "    <tr>\n",
       "      <th>20170728_patch2</th>\n",
       "      <th>tridesclous</th>\n",
       "      <td>0</td>\n",
       "    </tr>\n",
       "    <tr>\n",
       "      <th>20160426_patch3</th>\n",
       "      <th>tridesclous</th>\n",
       "      <td>0</td>\n",
       "    </tr>\n",
       "  </tbody>\n",
       "</table>\n",
       "</div>"
      ],
      "text/plain": [
       "                             num_redundant\n",
       "rec_name        sorter_name               \n",
       "20170725_patch1 tridesclous              0\n",
       "20160415_patch2 tridesclous              0\n",
       "20170621_patch1 tridesclous              0\n",
       "20170803_patch1 tridesclous              0\n",
       "20170623_patch1 tridesclous              0\n",
       "20170622_patch1 tridesclous              0\n",
       "20160426_patch2 tridesclous              0\n",
       "20170728_patch2 tridesclous              0\n",
       "20160426_patch3 tridesclous              0"
      ]
     },
     "execution_count": 31,
     "metadata": {},
     "output_type": "execute_result"
    }
   ],
   "source": [
    "dataframes['count_units'][['num_redundant']]"
   ]
  },
  {
   "cell_type": "code",
   "execution_count": 41,
   "metadata": {},
   "outputs": [],
   "source": []
  },
  {
   "cell_type": "code",
   "execution_count": null,
   "metadata": {},
   "outputs": [],
   "source": [
    "\n"
   ]
  },
  {
   "cell_type": "code",
   "execution_count": null,
   "metadata": {},
   "outputs": [],
   "source": []
  }
 ],
 "metadata": {
  "kernelspec": {
   "display_name": "Python 3",
   "language": "python",
   "name": "python3"
  },
  "language_info": {
   "codemirror_mode": {
    "name": "ipython",
    "version": 3
   },
   "file_extension": ".py",
   "mimetype": "text/x-python",
   "name": "python",
   "nbconvert_exporter": "python",
   "pygments_lexer": "ipython3",
   "version": "3.6.7"
  }
 },
 "nbformat": 4,
 "nbformat_minor": 2
}
