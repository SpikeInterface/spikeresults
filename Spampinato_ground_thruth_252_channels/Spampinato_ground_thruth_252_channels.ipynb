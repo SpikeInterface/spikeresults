{
 "cells": [
  {
   "cell_type": "markdown",
   "metadata": {},
   "source": [
    "# Ground truth recordings for validation of spike sorting algorithms\n",
    "\n",
    "\n",
    "Spampinato from Institut de la Vision have publish data from mice retina recorded with from dense array.\n",
    "The data contain one ground truth to benchmark spike sorting tools.\n",
    "\n",
    "Here the official publication of this open dataset:\n",
    "https://zenodo.org/record/1205233#.W9mq1HWLTIF\n",
    "\n",
    "\n",
    "This datasets was used by Pierre Yger publish spyking circus:\n",
    "https://elifesciences.org/articles/34518\n",
    "\n",
    "\n",
    "Here a notebook that compare some sorter on theses recording.\n",
    "\n",
    "Each recording have several units and **one** of theses have a ground truth recorded with juxta cellular.\n",
    "The SNR on MEA is differents on each file so we can easily compare the false positive and true positive score by sorter and SNR.\n",
    "\n",
    "\n",
    "all tar.gz files must in \"rawfiles\" path\n"
   ]
  },
  {
   "cell_type": "code",
   "execution_count": 1,
   "metadata": {},
   "outputs": [],
   "source": [
    "import zipfile, tarfile\n",
    "import re\n",
    "import os, shutil\n",
    "\n",
    "import numpy as np\n",
    "import pandas as pd\n",
    "import matplotlib.pyplot as plt\n",
    "\n",
    "import spiketoolkit as st\n",
    "import spikeextractors as se\n",
    "import spikewidgets as sw\n",
    "\n",
    "%matplotlib notebook"
   ]
  },
  {
   "cell_type": "markdown",
   "metadata": {},
   "source": [
    "## global variables"
   ]
  },
  {
   "cell_type": "code",
   "execution_count": 16,
   "metadata": {},
   "outputs": [],
   "source": [
    "# my working path\n",
    "# basedir = '/media/samuel/SamCNRS/DataSpikeSorting/pierre/zenodo/'\n",
    "basedir = '/mnt/data/sam/DataSpikeSorting/pierre_zenodo/'\n",
    "\n",
    "# input file\n",
    "recording_folder = basedir + 'rawfiles/'\n",
    "\n",
    "# where output will be\n",
    "working_folder = basedir + 'run_comparison/'\n",
    "\n",
    "# ground truth information\n",
    "ground_truth_folder = basedir + 'ground_truth/'\n",
    "\n",
    "# file_list\n",
    "rec_names = ['20160415_patch2','20160426_patch2', '20160426_patch3']\n",
    "             \n",
    "# ambiguous juxta detection\n",
    "# ['20170630_patch1', '20170627_patch1']\n",
    "             \n",
    "\n",
    "# sorter list\n",
    "sorter_list = ['tridesclous', 'moutainsort4']\n"
   ]
  },
  {
   "cell_type": "markdown",
   "metadata": {},
   "source": [
    "## Step 1 : unzip all\n",
    "\n",
    "This extract tar.gz files to folder"
   ]
  },
  {
   "cell_type": "code",
   "execution_count": null,
   "metadata": {},
   "outputs": [],
   "source": [
    "for rec_name in rec_names:\n",
    "    filename = recording_folder + rec_name + '.tar.gz'\n",
    "\n",
    "    if os.path.exists(recording_folder+rec_name) and os.path.isdir(recording_folder+rec_name):\n",
    "        continue\n",
    "    t = tarfile.open(filename, mode='r|gz')\n",
    "    t.extractall(recording_folder+rec_name)"
   ]
  },
  {
   "cell_type": "markdown",
   "metadata": {},
   "source": [
    "## Step 2 : detect ground truth spike on juxta cellular\n",
    "\n",
    "This is done in a separate script to keep this doc simple.\n",
    "\n",
    "The following script:\n",
    "  * detect GT spikes\n",
    "  * detect on which MEA channel the spike is\n",
    "  * get the mea peak value\n",
    "  * measure the noise on this channel\n",
    "  * make the ratio peak_value/noise_mad\n"
   ]
  },
  {
   "cell_type": "code",
   "execution_count": null,
   "metadata": {},
   "outputs": [],
   "source": [
    "%run detect_ground_truth_spike_on_juxta.py"
   ]
  },
  {
   "cell_type": "code",
   "execution_count": 11,
   "metadata": {},
   "outputs": [
    {
     "data": {
      "text/html": [
       "<div>\n",
       "<style scoped>\n",
       "    .dataframe tbody tr th:only-of-type {\n",
       "        vertical-align: middle;\n",
       "    }\n",
       "\n",
       "    .dataframe tbody tr th {\n",
       "        vertical-align: top;\n",
       "    }\n",
       "\n",
       "    .dataframe thead th {\n",
       "        text-align: right;\n",
       "    }\n",
       "</style>\n",
       "<table border=\"1\" class=\"dataframe\">\n",
       "  <thead>\n",
       "    <tr style=\"text-align: right;\">\n",
       "      <th></th>\n",
       "      <th>nb_spike</th>\n",
       "      <th>max_on_channel</th>\n",
       "      <th>max_value</th>\n",
       "      <th>mea_peak_snr</th>\n",
       "      <th>noise_mad</th>\n",
       "    </tr>\n",
       "  </thead>\n",
       "  <tbody>\n",
       "    <tr>\n",
       "      <th>20160415_patch2</th>\n",
       "      <td>3514</td>\n",
       "      <td>69</td>\n",
       "      <td>32369.0</td>\n",
       "      <td>704.277142</td>\n",
       "      <td>45.9606</td>\n",
       "    </tr>\n",
       "    <tr>\n",
       "      <th>20170630_patch1</th>\n",
       "      <td>2368</td>\n",
       "      <td>232</td>\n",
       "      <td>32106.0</td>\n",
       "      <td>832.892320</td>\n",
       "      <td>38.5476</td>\n",
       "    </tr>\n",
       "    <tr>\n",
       "      <th>20170627_patch1</th>\n",
       "      <td>3144</td>\n",
       "      <td>221</td>\n",
       "      <td>32331.0</td>\n",
       "      <td>681.467523</td>\n",
       "      <td>47.4432</td>\n",
       "    </tr>\n",
       "  </tbody>\n",
       "</table>\n",
       "</div>"
      ],
      "text/plain": [
       "                 nb_spike  max_on_channel  max_value  mea_peak_snr  noise_mad\n",
       "20160415_patch2      3514              69    32369.0    704.277142    45.9606\n",
       "20170630_patch1      2368             232    32106.0    832.892320    38.5476\n",
       "20170627_patch1      3144             221    32331.0    681.467523    47.4432"
      ]
     },
     "execution_count": 11,
     "metadata": {},
     "output_type": "execute_result"
    }
   ],
   "source": [
    "gt_info = pd.read_excel(ground_truth_folder+'gt_info.xlsx', index_col=0)\n",
    "gt_info.loc[rec_names, :]"
   ]
  },
  {
   "cell_type": "markdown",
   "metadata": {},
   "source": [
    "## Step 3: run sorters on all files\n",
    "\n",
    "Important note : the file have 256 channels but only 252 are usefull.\n",
    "The PRB file contain all channels needed so we need to explicit **grouping_property='group'**\n",
    "to be sure to only take in account the channel in the unique group."
   ]
  },
  {
   "cell_type": "code",
   "execution_count": null,
   "metadata": {},
   "outputs": [],
   "source": [
    "# make a recordings dict\n",
    "recordings = {}\n",
    "for rec_name in rec_names:\n",
    "    dirname = recording_folder + rec_name + '/'\n",
    "\n",
    "    for f in os.listdir(dirname):\n",
    "        if f.endswith('.raw') and not f.endswith('juxta.raw'):\n",
    "            raw_filename = dirname + f\n",
    "\n",
    "    # raw files have an internal offset that depend on the channel count\n",
    "    # a simple built header can be parsed to get it\n",
    "    with open(raw_filename.replace('.raw', '.txt'), mode='r') as f:\n",
    "        offset = int(re.findall('padding = (\\d+)', f.read())[0])\n",
    "\n",
    "    # recording\n",
    "    rec = se.BinDatRecordingExtractor(raw_filename, 20000, 256, 'uint16', offset=offset, frames_first=True)\n",
    "    chan_ids = rec.getChannelIds()\n",
    "\n",
    "    rec = se.loadProbeFile(rec, basedir + 'mea_256.prb')\n",
    "\n",
    "    recordings[rec_name] = rec\n",
    "\n"
   ]
  },
  {
   "cell_type": "code",
   "execution_count": null,
   "metadata": {},
   "outputs": [],
   "source": [
    "# run then all\n",
    "results = st.sorters.run_sorters(sorter_list, recordings, working_folder, grouping_property='group', debug=False)"
   ]
  },
  {
   "cell_type": "markdown",
   "metadata": {},
   "source": [
    "## Step 4 : compare sorter to ground truth"
   ]
  },
  {
   "cell_type": "code",
   "execution_count": 1,
   "metadata": {},
   "outputs": [
    {
     "ename": "NameError",
     "evalue": "name 'rec_names' is not defined",
     "output_type": "error",
     "traceback": [
      "\u001b[0;31m---------------------------------------------------------------------------\u001b[0m",
      "\u001b[0;31mNameError\u001b[0m                                 Traceback (most recent call last)",
      "\u001b[0;32m<ipython-input-1-024624ae5bc3>\u001b[0m in \u001b[0;36m<module>\u001b[0;34m\u001b[0m\n\u001b[1;32m      2\u001b[0m \u001b[0;34m\u001b[0m\u001b[0m\n\u001b[1;32m      3\u001b[0m \u001b[0mground_truths\u001b[0m \u001b[0;34m=\u001b[0m \u001b[0;34m{\u001b[0m\u001b[0;34m}\u001b[0m\u001b[0;34m\u001b[0m\u001b[0;34m\u001b[0m\u001b[0m\n\u001b[0;32m----> 4\u001b[0;31m \u001b[0;32mfor\u001b[0m \u001b[0mrec_name\u001b[0m \u001b[0;32min\u001b[0m \u001b[0mrec_names\u001b[0m\u001b[0;34m:\u001b[0m\u001b[0;34m\u001b[0m\u001b[0;34m\u001b[0m\u001b[0m\n\u001b[0m\u001b[1;32m      5\u001b[0m     \u001b[0mgt_indexes\u001b[0m \u001b[0;34m=\u001b[0m \u001b[0mnp\u001b[0m\u001b[0;34m.\u001b[0m\u001b[0mfromfile\u001b[0m\u001b[0;34m(\u001b[0m\u001b[0mground_truth_folder\u001b[0m \u001b[0;34m+\u001b[0m \u001b[0mrec_name\u001b[0m \u001b[0;34m+\u001b[0m \u001b[0;34m'/juxta_peak_indexes.raw'\u001b[0m\u001b[0;34m,\u001b[0m \u001b[0mdtype\u001b[0m\u001b[0;34m=\u001b[0m\u001b[0;34m'int64'\u001b[0m\u001b[0;34m)\u001b[0m\u001b[0;34m\u001b[0m\u001b[0;34m\u001b[0m\u001b[0m\n\u001b[1;32m      6\u001b[0m     \u001b[0mgt_sorting\u001b[0m \u001b[0;34m=\u001b[0m \u001b[0mse\u001b[0m\u001b[0;34m.\u001b[0m\u001b[0mNumpySortingExtractor\u001b[0m\u001b[0;34m(\u001b[0m\u001b[0;34m)\u001b[0m\u001b[0;34m\u001b[0m\u001b[0;34m\u001b[0m\u001b[0m\n",
      "\u001b[0;31mNameError\u001b[0m: name 'rec_names' is not defined"
     ]
    }
   ],
   "source": [
    "# make a ground truth dict\n",
    "\n",
    "ground_truths = {}\n",
    "for rec_name in rec_names:\n",
    "    gt_indexes = np.fromfile(ground_truth_folder + rec_name + '/juxta_peak_indexes.raw', dtype='int64')\n",
    "    gt_sorting = se.NumpySortingExtractor()\n",
    "    gt_sorting.setTimesLabels(gt_indexes, np.zeros(gt_indexes.size, dtype='int64'))\n",
    "    ground_truths[rec_name] = gt_sorting\n",
    "\n",
    "# compute performance\n",
    "comp_dataframes = gather_sorting_comparison(working_folder, ground_truths,use_multi_index=True)\n"
   ]
  },
  {
   "cell_type": "code",
   "execution_count": null,
   "metadata": {},
   "outputs": [],
   "source": [
    "import seaborn as sns"
   ]
  },
  {
   "cell_type": "markdown",
   "metadata": {},
   "source": [
    "## Compare run speed"
   ]
  },
  {
   "cell_type": "code",
   "execution_count": 2,
   "metadata": {},
   "outputs": [
    {
     "ename": "NameError",
     "evalue": "name 'comparison_dataframes' is not defined",
     "output_type": "error",
     "traceback": [
      "\u001b[0;31m---------------------------------------------------------------------------\u001b[0m",
      "\u001b[0;31mNameError\u001b[0m                                 Traceback (most recent call last)",
      "\u001b[0;32m<ipython-input-2-3fe56dc88110>\u001b[0m in \u001b[0;36m<module>\u001b[0;34m\u001b[0m\n\u001b[0;32m----> 1\u001b[0;31m \u001b[0mrun_times\u001b[0m \u001b[0;34m=\u001b[0m \u001b[0mcomparison_dataframes\u001b[0m\u001b[0;34m[\u001b[0m\u001b[0;34m'run_times'\u001b[0m\u001b[0;34m]\u001b[0m\u001b[0;34m\u001b[0m\u001b[0;34m\u001b[0m\u001b[0m\n\u001b[0m\u001b[1;32m      2\u001b[0m \u001b[0mrun_times\u001b[0m\u001b[0;34m\u001b[0m\u001b[0;34m\u001b[0m\u001b[0m\n",
      "\u001b[0;31mNameError\u001b[0m: name 'comparison_dataframes' is not defined"
     ]
    }
   ],
   "source": [
    "run_times = comp_dataframes['run_times']\n",
    "run_times"
   ]
  },
  {
   "cell_type": "code",
   "execution_count": 21,
   "metadata": {},
   "outputs": [
    {
     "data": {
      "text/plain": [
       "<matplotlib.lines.Line2D at 0x7fee1322bc88>"
      ]
     },
     "execution_count": 21,
     "metadata": {},
     "output_type": "execute_result"
    },
    {
     "data": {
      "image/png": "[encoded data removed]",
      "text/plain": [
       "<Figure size 432x288 with 1 Axes>"
      ]
     },
     "metadata": {
      "needs_background": "light"
     },
     "output_type": "display_data"
    }
   ],
   "source": [
    "run_times = comp_dataframes['run_times'].reset_index()\n",
    "fig, ax = plt.subplots()\n",
    "sn.barplot(data=run_times, x='rec_name', y='run_time', hue='sorter_name', ax=ax)\n",
    "ax.set_title('Run times')"
   ]
  },
  {
   "cell_type": "markdown",
   "metadata": {},
   "source": [
    "## Compare performances"
   ]
  },
  {
   "cell_type": "code",
   "execution_count": null,
   "metadata": {},
   "outputs": [],
   "source": [
    "comp_dataframes['performances']"
   ]
  },
  {
   "cell_type": "code",
   "execution_count": null,
   "metadata": {},
   "outputs": [],
   "source": [
    "perfs = comp_dataframes['performances'].reset_index()\n",
    "fig, ax = plt.subplots()\n",
    "sn.barplot(data=perfs, x='rec_name', y='tp', hue='sorter_name', ax=ax)\n",
    "ax.set_title('True positive rate')\n",
    "ax.set_ylim(0, 100)"
   ]
  },
  {
   "cell_type": "code",
   "execution_count": null,
   "metadata": {},
   "outputs": [],
   "source": [
    "perfs = comp_dataframes['performances'].reset_index()\n",
    "fig, ax = plt.subplots()\n",
    "ax = sn.barplot(data=perfs, x='rec_name', y='accuracy', hue='sorter_name', ax=ax)\n",
    "ax.set_title('accuracy')\n",
    "ax.set_ylim(0, 100)"
   ]
  },
  {
   "cell_type": "markdown",
   "metadata": {},
   "source": [
    "# Accuracy vs peak amplitude SNR"
   ]
  },
  {
   "cell_type": "code",
   "execution_count": 3,
   "metadata": {},
   "outputs": [],
   "source": [
    "# To be done"
   ]
  },
  {
   "cell_type": "code",
   "execution_count": null,
   "metadata": {},
   "outputs": [],
   "source": []
  }
 ],
 "metadata": {
  "kernelspec": {
   "display_name": "Python 3",
   "language": "python",
   "name": "python3"
  },
  "language_info": {
   "codemirror_mode": {
    "name": "ipython",
    "version": 3
   },
   "file_extension": ".py",
   "mimetype": "text/x-python",
   "name": "python",
   "nbconvert_exporter": "python",
   "pygments_lexer": "ipython3",
   "version": "3.6.6"
  }
 },
 "nbformat": 4,
 "nbformat_minor": 2
}
