{
 "cells": [
  {
   "cell_type": "markdown",
   "metadata": {},
   "source": [
    "# Ground truth recordings for validation of spike sorting algorithms\n",
    "\n",
    "\n",
    "Spampinato from Institut de la Vision have publish data from mice retina recorded with from dense array.\n",
    "The data contain one ground truth to benchmark spike sorting tools.\n",
    "\n",
    "Here the official publication of this open dataset:\n",
    "https://zenodo.org/record/1205233#.W9mq1HWLTIF\n",
    "\n",
    "\n",
    "This datasets was used by Pierre Yger publish spyking circus:\n",
    "https://elifesciences.org/articles/34518\n",
    "\n",
    "\n",
    "Here a notebook that compare some sorter on theses recording.\n",
    "\n",
    "Each recording have several units and **one** of theses have a ground truth recorded with juxta cellular.\n",
    "The SNR on MEA is differents on each file so we can easily compare the false positive and true positive score by sorter and SNR.\n",
    "\n",
    "\n",
    "all tar.gz files must in \"rawfiles\" path\n"
   ]
  },
  {
   "cell_type": "code",
   "execution_count": 10,
   "metadata": {},
   "outputs": [],
   "source": [
    "import zipfile, tarfile\n",
    "import re\n",
    "import os, shutil\n",
    "\n",
    "import numpy as np\n",
    "import pandas as pd\n",
    "import matplotlib.pyplot as plt\n",
    "\n",
    "from spiketoolkit.sorters import run_sorters\n",
    "import spikeextractors as se\n",
    "\n",
    "%matplotlib notebook"
   ]
  },
  {
   "cell_type": "markdown",
   "metadata": {},
   "source": [
    "## global variables"
   ]
  },
  {
   "cell_type": "code",
   "execution_count": 9,
   "metadata": {},
   "outputs": [],
   "source": [
    "# my working path\n",
    "basedir = '/media/samuel/SamCNRS/DataSpikeSorting/pierre/zenodo/'\n",
    "\n",
    "# input file\n",
    "recording_folder = basedir + 'rawfiles/'\n",
    "\n",
    "# where output will be\n",
    "working_folder = basedir + 'run_comparison/'\n",
    "\n",
    "# file_list\n",
    "rec_names = ['20160415_patch2', '20170630_patch1', '20170627_patch1']\n",
    "\n",
    "# sorter list\n",
    "sorter_list = ['tridesclous', 'spykingcircus']\n"
   ]
  },
  {
   "cell_type": "markdown",
   "metadata": {},
   "source": [
    "## Step 1 : unzip all\n",
    "\n",
    "This extract tar.gz files to folder"
   ]
  },
  {
   "cell_type": "code",
   "execution_count": null,
   "metadata": {},
   "outputs": [],
   "source": [
    "for rec_name in rec_names:\n",
    "    filename = recording_folder + rec_name + '.tar.gz'\n",
    "\n",
    "    if os.path.exists(recording_folder+rec_name) and os.path.isdir(recording_folder+rec_name):\n",
    "        continue\n",
    "    t = tarfile.open(filename, mode='r|gz')\n",
    "    t.extractall(recording_folder+rec_name)"
   ]
  },
  {
   "cell_type": "markdown",
   "metadata": {},
   "source": [
    "## Step 2: run sorters on all files\n",
    "\n",
    "Important note : the file have 256 channels but only 252 are usefull.\n",
    "The PRB file contain all channels needed so we need to explicit **grouping_property='group'**\n",
    "to be sure to only take in account the channel in the unique group."
   ]
  },
  {
   "cell_type": "code",
   "execution_count": null,
   "metadata": {},
   "outputs": [],
   "source": [
    "# make a recordings dict\n",
    "recordings = {}\n",
    "for rec_name in rec_names:\n",
    "    dirname = recording_folder + name + '/'\n",
    "\n",
    "    for f in os.listdir(dirname):\n",
    "        if f.endswith('.raw') and not f.endswith('juxta.raw'):\n",
    "            raw_filename = dirname + f\n",
    "\n",
    "    # raw files have an internal offset that depend on the channel count\n",
    "    # a simple built header can be parsed to get it\n",
    "    with open(raw_filename.replace('.raw', '.txt'), mode='r') as f:\n",
    "        offset = int(re.findall('padding = (\\d+)', f.read())[0])\n",
    "    \n",
    "    # recording\n",
    "    rec = se.BinDatRecordingExtractor(raw_filename, 20000, 256, 'uint16', offset=offset, frames_first=True)\n",
    "    chan_ids = rec.getChannelIds()\n",
    "\n",
    "    rec = se.loadProbeFile(rec, basedir + 'mea_256.prb')\n",
    "\n",
    "    recordings[name] = rec\n"
   ]
  },
  {
   "cell_type": "code",
   "execution_count": null,
   "metadata": {},
   "outputs": [],
   "source": [
    "# run then all\n",
    "results = run_sorters(sorter_list, recordings, working_folder, grouping_property='group', debug=False)"
   ]
  },
  {
   "cell_type": "code",
   "execution_count": null,
   "metadata": {},
   "outputs": [],
   "source": []
  }
 ],
 "metadata": {
  "kernelspec": {
   "display_name": "Python 3",
   "language": "python",
   "name": "python3"
  },
  "language_info": {
   "codemirror_mode": {
    "name": "ipython",
    "version": 3
   },
   "file_extension": ".py",
   "mimetype": "text/x-python",
   "name": "python",
   "nbconvert_exporter": "python",
   "pygments_lexer": "ipython3",
   "version": "3.6.6"
  }
 },
 "nbformat": 4,
 "nbformat_minor": 2
}
