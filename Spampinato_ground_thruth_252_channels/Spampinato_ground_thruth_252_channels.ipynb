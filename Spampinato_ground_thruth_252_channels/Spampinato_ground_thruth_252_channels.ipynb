{
 "cells": [
  {
   "cell_type": "markdown",
   "metadata": {},
   "source": [
    "# Ground truth recordings for validation of spike sorting algorithms\n",
    "\n",
    "\n",
    "Spampinato from Institut de la Vision have publish data from mice retina recorded with from dense array.\n",
    "The data contain one ground truth to benchmark spike sorting tools.\n",
    "\n",
    "Here the official publication of this open dataset:\n",
    "https://zenodo.org/record/1205233#.W9mq1HWLTIF\n",
    "\n",
    "\n",
    "This datasets was used by Pierre Yger publish spyking circus:\n",
    "https://elifesciences.org/articles/34518\n",
    "\n",
    "\n",
    "Here a notebook that compare some sorter on theses recording.\n",
    "\n",
    "Each recording have several units and **one** of theses have a ground truth recorded with juxta cellular.\n",
    "The SNR on MEA is differents on each file so we can easily compare the false positive and true positive score by sorter and SNR.\n",
    "\n",
    "\n",
    "all tar.gz files must in \"rawfiles\" path\n"
   ]
  },
  {
   "cell_type": "code",
   "execution_count": 1,
   "metadata": {},
   "outputs": [],
   "source": [
    "import zipfile, tarfile\n",
    "import re\n",
    "import os, shutil\n",
    "\n",
    "import numpy as np\n",
    "import pandas as pd\n",
    "import matplotlib.pyplot as plt\n",
    "\n",
    "import spiketoolkit as st\n",
    "import spikeextractors as se\n",
    "import spikewidgets as sw\n",
    "\n",
    "%matplotlib notebook"
   ]
  },
  {
   "cell_type": "markdown",
   "metadata": {},
   "source": [
    "## global variables"
   ]
  },
  {
   "cell_type": "code",
   "execution_count": 4,
   "metadata": {},
   "outputs": [],
   "source": [
    "# my working path\n",
    "# basedir = '/media/samuel/SamCNRS/DataSpikeSorting/pierre/zenodo/'\n",
    "basedir = '/mnt/data/sam/DataSpikeSorting/pierre_zenodo/'\n",
    "\n",
    "# input file\n",
    "recording_folder = basedir + 'rawfiles/'\n",
    "\n",
    "# where output will be\n",
    "working_folder = basedir + 'run_comparison/'\n",
    "\n",
    "# ground truth information\n",
    "ground_truth_folder = basedir + 'ground_truth/'\n",
    "\n",
    "# file_list\n",
    "rec_names = ['20170629_patch3', '20170728_patch2', '20170630_patch1', '20160426_patch2', '20170621_patch1',\n",
    "             '20170627_patch1', '20170706_patch3', '20170706_patch1', '20170726_patch1', '20170725_patch1',\n",
    "             '20160426_patch3', '20170622_patch1', '20170623_patch1', '20170622_patch2', '20170629_patch2',\n",
    "             '20170713_patch1', '20160415_patch2', '20170706_patch2', '20170803_patch1']\n",
    "rec_names = ['20160415_patch2','20160426_patch2', '20160426_patch3']\n",
    "\n",
    "# ambiguous juxta detection\n",
    "# ['20170630_patch1', '20170627_patch1']\n",
    "             \n",
    "\n",
    "# sorter list\n",
    "sorter_list = ['tridesclous', 'moutainsort4']\n"
   ]
  },
  {
   "cell_type": "markdown",
   "metadata": {},
   "source": [
    "## Step 1 : unzip all\n",
    "\n",
    "This extract tar.gz files to folder"
   ]
  },
  {
   "cell_type": "code",
   "execution_count": null,
   "metadata": {},
   "outputs": [],
   "source": [
    "for rec_name in rec_names:\n",
    "    filename = recording_folder + rec_name + '.tar.gz'\n",
    "\n",
    "    if os.path.exists(recording_folder+rec_name) and os.path.isdir(recording_folder+rec_name):\n",
    "        continue\n",
    "    t = tarfile.open(filename, mode='r|gz')\n",
    "    t.extractall(recording_folder+rec_name)"
   ]
  },
  {
   "cell_type": "markdown",
   "metadata": {},
   "source": [
    "## Step 2 : detect ground truth spike on juxta cellular\n",
    "\n",
    "This is done in a separate script to keep this doc simple.\n",
    "\n",
    "The following script:\n",
    "  * detect GT spikes\n",
    "  * detect on which MEA channel the spike is\n",
    "  * get the mea peak value\n",
    "  * measure the noise on this channel\n",
    "  * make the ratio peak_value/noise_mad\n"
   ]
  },
  {
   "cell_type": "code",
   "execution_count": null,
   "metadata": {},
   "outputs": [],
   "source": [
    "%run detect_ground_truth_spike_on_juxta.py"
   ]
  },
  {
   "cell_type": "code",
   "execution_count": 11,
   "metadata": {},
   "outputs": [
    {
     "data": {
      "text/html": [
       "<div>\n",
       "<style scoped>\n",
       "    .dataframe tbody tr th:only-of-type {\n",
       "        vertical-align: middle;\n",
       "    }\n",
       "\n",
       "    .dataframe tbody tr th {\n",
       "        vertical-align: top;\n",
       "    }\n",
       "\n",
       "    .dataframe thead th {\n",
       "        text-align: right;\n",
       "    }\n",
       "</style>\n",
       "<table border=\"1\" class=\"dataframe\">\n",
       "  <thead>\n",
       "    <tr style=\"text-align: right;\">\n",
       "      <th></th>\n",
       "      <th>nb_spike</th>\n",
       "      <th>max_on_channel</th>\n",
       "      <th>max_value</th>\n",
       "      <th>mea_peak_snr</th>\n",
       "      <th>noise_mad</th>\n",
       "    </tr>\n",
       "  </thead>\n",
       "  <tbody>\n",
       "    <tr>\n",
       "      <th>20160415_patch2</th>\n",
       "      <td>3514</td>\n",
       "      <td>69</td>\n",
       "      <td>32369.0</td>\n",
       "      <td>704.277142</td>\n",
       "      <td>45.9606</td>\n",
       "    </tr>\n",
       "    <tr>\n",
       "      <th>20170630_patch1</th>\n",
       "      <td>2368</td>\n",
       "      <td>232</td>\n",
       "      <td>32106.0</td>\n",
       "      <td>832.892320</td>\n",
       "      <td>38.5476</td>\n",
       "    </tr>\n",
       "    <tr>\n",
       "      <th>20170627_patch1</th>\n",
       "      <td>3144</td>\n",
       "      <td>221</td>\n",
       "      <td>32331.0</td>\n",
       "      <td>681.467523</td>\n",
       "      <td>47.4432</td>\n",
       "    </tr>\n",
       "  </tbody>\n",
       "</table>\n",
       "</div>"
      ],
      "text/plain": [
       "                 nb_spike  max_on_channel  max_value  mea_peak_snr  noise_mad\n",
       "20160415_patch2      3514              69    32369.0    704.277142    45.9606\n",
       "20170630_patch1      2368             232    32106.0    832.892320    38.5476\n",
       "20170627_patch1      3144             221    32331.0    681.467523    47.4432"
      ]
     },
     "execution_count": 11,
     "metadata": {},
     "output_type": "execute_result"
    }
   ],
   "source": [
    "gt_info = pd.read_excel(ground_truth_folder+'gt_info.xlsx', index_col=0)\n",
    "gt_info.loc[rec_names, :]"
   ]
  },
  {
   "cell_type": "markdown",
   "metadata": {},
   "source": [
    "## Step 3: run sorters on all files\n",
    "\n",
    "Important note : the file have 256 channels but only 252 are usefull.\n",
    "The PRB file contain all channels needed so we need to explicit **grouping_property='group'**\n",
    "to be sure to only take in account the channel in the unique group."
   ]
  },
  {
   "cell_type": "code",
   "execution_count": null,
   "metadata": {},
   "outputs": [],
   "source": [
    "# make a recordings dict\n",
    "recordings = {}\n",
    "for rec_name in rec_names:\n",
    "    dirname = recording_folder + rec_name + '/'\n",
    "\n",
    "    for f in os.listdir(dirname):\n",
    "        if f.endswith('.raw') and not f.endswith('juxta.raw'):\n",
    "            raw_filename = dirname + f\n",
    "\n",
    "    # raw files have an internal offset that depend on the channel count\n",
    "    # a simple built header can be parsed to get it\n",
    "    with open(raw_filename.replace('.raw', '.txt'), mode='r') as f:\n",
    "        offset = int(re.findall('padding = (\\d+)', f.read())[0])\n",
    "\n",
    "    # recording\n",
    "    rec = se.BinDatRecordingExtractor(raw_filename, 20000, 256, 'uint16', offset=offset, frames_first=True)\n",
    "    chan_ids = rec.getChannelIds()\n",
    "\n",
    "    rec = se.loadProbeFile(rec, basedir + 'mea_256.prb')\n",
    "\n",
    "    recordings[rec_name] = rec\n",
    "\n"
   ]
  },
  {
   "cell_type": "code",
   "execution_count": null,
   "metadata": {},
   "outputs": [],
   "source": [
    "# run then all\n",
    "results = st.sorters.run_sorters(sorter_list, recordings, working_folder, grouping_property='group', debug=False)"
   ]
  },
  {
   "cell_type": "markdown",
   "metadata": {},
   "source": [
    "## Step 4 : compare sorter to ground truth"
   ]
  },
  {
   "cell_type": "code",
   "execution_count": 5,
   "metadata": {},
   "outputs": [],
   "source": [
    "# make a ground truth dict\n",
    "\n",
    "ground_truths = {}\n",
    "for rec_name in rec_names:\n",
    "    gt_indexes = np.fromfile(ground_truth_folder + rec_name + '/juxta_peak_indexes.raw', dtype='int64')\n",
    "    gt_sorting = se.NumpySortingExtractor()\n",
    "    gt_sorting.setTimesLabels(gt_indexes, np.zeros(gt_indexes.size, dtype='int64'))\n",
    "    ground_truths[rec_name] = gt_sorting\n",
    "\n",
    "# compute performance\n",
    "comp_dataframes = st.comparison.gather_sorting_comparison(working_folder, ground_truths,use_multi_index=True)\n"
   ]
  },
  {
   "cell_type": "code",
   "execution_count": 9,
   "metadata": {},
   "outputs": [],
   "source": [
    "import seaborn as sns"
   ]
  },
  {
   "cell_type": "markdown",
   "metadata": {},
   "source": [
    "## Compare run speed"
   ]
  },
  {
   "cell_type": "code",
   "execution_count": 10,
   "metadata": {},
   "outputs": [
    {
     "data": {
      "text/html": [
       "<div>\n",
       "<style scoped>\n",
       "    .dataframe tbody tr th:only-of-type {\n",
       "        vertical-align: middle;\n",
       "    }\n",
       "\n",
       "    .dataframe tbody tr th {\n",
       "        vertical-align: top;\n",
       "    }\n",
       "\n",
       "    .dataframe thead th {\n",
       "        text-align: right;\n",
       "    }\n",
       "</style>\n",
       "<table border=\"1\" class=\"dataframe\">\n",
       "  <thead>\n",
       "    <tr style=\"text-align: right;\">\n",
       "      <th></th>\n",
       "      <th></th>\n",
       "      <th>run_time</th>\n",
       "    </tr>\n",
       "    <tr>\n",
       "      <th>rec_name</th>\n",
       "      <th>sorter_name</th>\n",
       "      <th></th>\n",
       "    </tr>\n",
       "  </thead>\n",
       "  <tbody>\n",
       "    <tr>\n",
       "      <th>20160415_patch2</th>\n",
       "      <th>tridesclous</th>\n",
       "      <td>890.648808</td>\n",
       "    </tr>\n",
       "    <tr>\n",
       "      <th>20170803_patch1</th>\n",
       "      <th>tridesclous</th>\n",
       "      <td>1190.688617</td>\n",
       "    </tr>\n",
       "    <tr>\n",
       "      <th>20170623_patch1</th>\n",
       "      <th>tridesclous</th>\n",
       "      <td>917.295148</td>\n",
       "    </tr>\n",
       "    <tr>\n",
       "      <th>20170622_patch1</th>\n",
       "      <th>tridesclous</th>\n",
       "      <td>392.418592</td>\n",
       "    </tr>\n",
       "    <tr>\n",
       "      <th>20160426_patch3</th>\n",
       "      <th>tridesclous</th>\n",
       "      <td>273.174881</td>\n",
       "    </tr>\n",
       "    <tr>\n",
       "      <th>20170725_patch1</th>\n",
       "      <th>tridesclous</th>\n",
       "      <td>990.223968</td>\n",
       "    </tr>\n",
       "    <tr>\n",
       "      <th>20170621_patch1</th>\n",
       "      <th>tridesclous</th>\n",
       "      <td>1426.641215</td>\n",
       "    </tr>\n",
       "    <tr>\n",
       "      <th>20160426_patch2</th>\n",
       "      <th>tridesclous</th>\n",
       "      <td>207.404611</td>\n",
       "    </tr>\n",
       "    <tr>\n",
       "      <th>20170728_patch2</th>\n",
       "      <th>tridesclous</th>\n",
       "      <td>822.377618</td>\n",
       "    </tr>\n",
       "  </tbody>\n",
       "</table>\n",
       "</div>"
      ],
      "text/plain": [
       "                                run_time\n",
       "rec_name        sorter_name             \n",
       "20160415_patch2 tridesclous   890.648808\n",
       "20170803_patch1 tridesclous  1190.688617\n",
       "20170623_patch1 tridesclous   917.295148\n",
       "20170622_patch1 tridesclous   392.418592\n",
       "20160426_patch3 tridesclous   273.174881\n",
       "20170725_patch1 tridesclous   990.223968\n",
       "20170621_patch1 tridesclous  1426.641215\n",
       "20160426_patch2 tridesclous   207.404611\n",
       "20170728_patch2 tridesclous   822.377618"
      ]
     },
     "execution_count": 10,
     "metadata": {},
     "output_type": "execute_result"
    }
   ],
   "source": [
    "run_times = comp_dataframes['run_times']\n",
    "run_times"
   ]
  },
  {
   "cell_type": "code",
   "execution_count": 11,
   "metadata": {},
   "outputs": [
    {
     "data": {
      "text/plain": [
       "Text(0.5, 1.0, 'Run times')"
      ]
     },
     "execution_count": 11,
     "metadata": {},
     "output_type": "execute_result"
    },
    {
     "data": {
      "image/png": "[encoded data removed]",
      "text/plain": [
       "<Figure size 432x288 with 1 Axes>"
      ]
     },
     "metadata": {
      "needs_background": "light"
     },
     "output_type": "display_data"
    }
   ],
   "source": [
    "run_times = comp_dataframes['run_times'].reset_index()\n",
    "fig, ax = plt.subplots()\n",
    "sns.barplot(data=run_times, x='rec_name', y='run_time', hue='sorter_name', ax=ax)\n",
    "ax.set_title('Run times')"
   ]
  },
  {
   "cell_type": "markdown",
   "metadata": {},
   "source": [
    "## Compare performances"
   ]
  },
  {
   "cell_type": "code",
   "execution_count": 12,
   "metadata": {},
   "outputs": [
    {
     "data": {
      "text/html": [
       "<div>\n",
       "<style scoped>\n",
       "    .dataframe tbody tr th:only-of-type {\n",
       "        vertical-align: middle;\n",
       "    }\n",
       "\n",
       "    .dataframe tbody tr th {\n",
       "        vertical-align: top;\n",
       "    }\n",
       "\n",
       "    .dataframe thead th {\n",
       "        text-align: right;\n",
       "    }\n",
       "</style>\n",
       "<table border=\"1\" class=\"dataframe\">\n",
       "  <thead>\n",
       "    <tr style=\"text-align: right;\">\n",
       "      <th></th>\n",
       "      <th></th>\n",
       "      <th>tp</th>\n",
       "      <th>cl</th>\n",
       "      <th>fp_st1</th>\n",
       "      <th>fp_st2</th>\n",
       "      <th>accuracy</th>\n",
       "      <th>sensitivity</th>\n",
       "      <th>precision</th>\n",
       "      <th>miss_rate</th>\n",
       "      <th>false_disc_rate</th>\n",
       "    </tr>\n",
       "    <tr>\n",
       "      <th>rec_name</th>\n",
       "      <th>sorter_name</th>\n",
       "      <th></th>\n",
       "      <th></th>\n",
       "      <th></th>\n",
       "      <th></th>\n",
       "      <th></th>\n",
       "      <th></th>\n",
       "      <th></th>\n",
       "      <th></th>\n",
       "      <th></th>\n",
       "    </tr>\n",
       "  </thead>\n",
       "  <tbody>\n",
       "    <tr>\n",
       "      <th>20160415_patch2</th>\n",
       "      <th>tridesclous</th>\n",
       "      <td>58.9641</td>\n",
       "      <td>0</td>\n",
       "      <td>3105.61</td>\n",
       "      <td>98.1367</td>\n",
       "      <td>1.83941</td>\n",
       "      <td>58.9641</td>\n",
       "      <td>1.86326</td>\n",
       "      <td>41.0359</td>\n",
       "      <td>98.1367</td>\n",
       "    </tr>\n",
       "    <tr>\n",
       "      <th>20170803_patch1</th>\n",
       "      <th>tridesclous</th>\n",
       "      <td>99.6466</td>\n",
       "      <td>0</td>\n",
       "      <td>2776.89</td>\n",
       "      <td>96.5359</td>\n",
       "      <td>3.46368</td>\n",
       "      <td>99.6466</td>\n",
       "      <td>3.46411</td>\n",
       "      <td>0.353449</td>\n",
       "      <td>96.5359</td>\n",
       "    </tr>\n",
       "    <tr>\n",
       "      <th>20170623_patch1</th>\n",
       "      <th>tridesclous</th>\n",
       "      <td>99.8569</td>\n",
       "      <td>0</td>\n",
       "      <td>21363.5</td>\n",
       "      <td>99.5348</td>\n",
       "      <td>0.46524</td>\n",
       "      <td>99.8569</td>\n",
       "      <td>0.465243</td>\n",
       "      <td>0.143062</td>\n",
       "      <td>99.5348</td>\n",
       "    </tr>\n",
       "    <tr>\n",
       "      <th>20170622_patch1</th>\n",
       "      <th>tridesclous</th>\n",
       "      <td>94.6033</td>\n",
       "      <td>0</td>\n",
       "      <td>1019.15</td>\n",
       "      <td>91.5059</td>\n",
       "      <td>8.45315</td>\n",
       "      <td>94.6033</td>\n",
       "      <td>8.49411</td>\n",
       "      <td>5.39675</td>\n",
       "      <td>91.5059</td>\n",
       "    </tr>\n",
       "    <tr>\n",
       "      <th>20160426_patch3</th>\n",
       "      <th>tridesclous</th>\n",
       "      <td>0</td>\n",
       "      <td>0</td>\n",
       "      <td>790.538</td>\n",
       "      <td>100</td>\n",
       "      <td>0</td>\n",
       "      <td>0</td>\n",
       "      <td>0</td>\n",
       "      <td>100</td>\n",
       "      <td>100</td>\n",
       "    </tr>\n",
       "    <tr>\n",
       "      <th>20170725_patch1</th>\n",
       "      <th>tridesclous</th>\n",
       "      <td>97.3684</td>\n",
       "      <td>0</td>\n",
       "      <td>41466.1</td>\n",
       "      <td>99.7657</td>\n",
       "      <td>0.23425</td>\n",
       "      <td>97.3684</td>\n",
       "      <td>0.234265</td>\n",
       "      <td>2.63158</td>\n",
       "      <td>99.7657</td>\n",
       "    </tr>\n",
       "    <tr>\n",
       "      <th>20170621_patch1</th>\n",
       "      <th>tridesclous</th>\n",
       "      <td>0</td>\n",
       "      <td>0</td>\n",
       "      <td>6070.46</td>\n",
       "      <td>100</td>\n",
       "      <td>0</td>\n",
       "      <td>0</td>\n",
       "      <td>0</td>\n",
       "      <td>100</td>\n",
       "      <td>100</td>\n",
       "    </tr>\n",
       "    <tr>\n",
       "      <th>20160426_patch2</th>\n",
       "      <th>tridesclous</th>\n",
       "      <td>0</td>\n",
       "      <td>0</td>\n",
       "      <td>499.772</td>\n",
       "      <td>100</td>\n",
       "      <td>0</td>\n",
       "      <td>0</td>\n",
       "      <td>0</td>\n",
       "      <td>100</td>\n",
       "      <td>100</td>\n",
       "    </tr>\n",
       "    <tr>\n",
       "      <th>20170728_patch2</th>\n",
       "      <th>tridesclous</th>\n",
       "      <td>99.6841</td>\n",
       "      <td>0</td>\n",
       "      <td>3415.82</td>\n",
       "      <td>97.1644</td>\n",
       "      <td>2.8353</td>\n",
       "      <td>99.6841</td>\n",
       "      <td>2.83556</td>\n",
       "      <td>0.315922</td>\n",
       "      <td>97.1644</td>\n",
       "    </tr>\n",
       "  </tbody>\n",
       "</table>\n",
       "</div>"
      ],
      "text/plain": [
       "                                  tp cl   fp_st1   fp_st2 accuracy  \\\n",
       "rec_name        sorter_name                                          \n",
       "20160415_patch2 tridesclous  58.9641  0  3105.61  98.1367  1.83941   \n",
       "20170803_patch1 tridesclous  99.6466  0  2776.89  96.5359  3.46368   \n",
       "20170623_patch1 tridesclous  99.8569  0  21363.5  99.5348  0.46524   \n",
       "20170622_patch1 tridesclous  94.6033  0  1019.15  91.5059  8.45315   \n",
       "20160426_patch3 tridesclous        0  0  790.538      100        0   \n",
       "20170725_patch1 tridesclous  97.3684  0  41466.1  99.7657  0.23425   \n",
       "20170621_patch1 tridesclous        0  0  6070.46      100        0   \n",
       "20160426_patch2 tridesclous        0  0  499.772      100        0   \n",
       "20170728_patch2 tridesclous  99.6841  0  3415.82  97.1644   2.8353   \n",
       "\n",
       "                            sensitivity precision miss_rate false_disc_rate  \n",
       "rec_name        sorter_name                                                  \n",
       "20160415_patch2 tridesclous     58.9641   1.86326   41.0359         98.1367  \n",
       "20170803_patch1 tridesclous     99.6466   3.46411  0.353449         96.5359  \n",
       "20170623_patch1 tridesclous     99.8569  0.465243  0.143062         99.5348  \n",
       "20170622_patch1 tridesclous     94.6033   8.49411   5.39675         91.5059  \n",
       "20160426_patch3 tridesclous           0         0       100             100  \n",
       "20170725_patch1 tridesclous     97.3684  0.234265   2.63158         99.7657  \n",
       "20170621_patch1 tridesclous           0         0       100             100  \n",
       "20160426_patch2 tridesclous           0         0       100             100  \n",
       "20170728_patch2 tridesclous     99.6841   2.83556  0.315922         97.1644  "
      ]
     },
     "execution_count": 12,
     "metadata": {},
     "output_type": "execute_result"
    }
   ],
   "source": [
    "comp_dataframes['performances']"
   ]
  },
  {
   "cell_type": "code",
   "execution_count": 14,
   "metadata": {},
   "outputs": [
    {
     "data": {
      "text/plain": [
       "(0, 100)"
      ]
     },
     "execution_count": 14,
     "metadata": {},
     "output_type": "execute_result"
    },
    {
     "data": {
      "image/png": "[encoded data removed]",
      "text/plain": [
       "<Figure size 432x288 with 1 Axes>"
      ]
     },
     "metadata": {
      "needs_background": "light"
     },
     "output_type": "display_data"
    }
   ],
   "source": [
    "perfs = comp_dataframes['performances'].reset_index()\n",
    "fig, ax = plt.subplots()\n",
    "sns.barplot(data=perfs, x='rec_name', y='tp', hue='sorter_name', ax=ax)\n",
    "ax.set_title('True positive rate')\n",
    "ax.set_ylim(0, 100)"
   ]
  },
  {
   "cell_type": "code",
   "execution_count": 16,
   "metadata": {},
   "outputs": [
    {
     "data": {
      "text/plain": [
       "(0, 100)"
      ]
     },
     "execution_count": 16,
     "metadata": {},
     "output_type": "execute_result"
    },
    {
     "data": {
      "image/png": "[encoded data removed]",
      "text/plain": [
       "<Figure size 432x288 with 1 Axes>"
      ]
     },
     "metadata": {
      "needs_background": "light"
     },
     "output_type": "display_data"
    }
   ],
   "source": [
    "perfs = comp_dataframes['performances'].reset_index()\n",
    "fig, ax = plt.subplots()\n",
    "ax = sns.barplot(data=perfs, x='rec_name', y='accuracy', hue='sorter_name', ax=ax)\n",
    "ax.set_title('accuracy')\n",
    "ax.set_ylim(0, 100)"
   ]
  },
  {
   "cell_type": "markdown",
   "metadata": {},
   "source": [
    "# Accuracy vs peak amplitude SNR"
   ]
  },
  {
   "cell_type": "code",
   "execution_count": 3,
   "metadata": {},
   "outputs": [],
   "source": [
    "# To be done"
   ]
  },
  {
   "cell_type": "code",
   "execution_count": null,
   "metadata": {},
   "outputs": [],
   "source": []
  }
 ],
 "metadata": {
  "kernelspec": {
   "display_name": "Python 3",
   "language": "python",
   "name": "python3"
  },
  "language_info": {
   "codemirror_mode": {
    "name": "ipython",
    "version": 3
   },
   "file_extension": ".py",
   "mimetype": "text/x-python",
   "name": "python",
   "nbconvert_exporter": "python",
   "pygments_lexer": "ipython3",
   "version": "3.6.5"
  }
 },
 "nbformat": 4,
 "nbformat_minor": 2
}
